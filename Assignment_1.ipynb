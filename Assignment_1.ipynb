{
 "cells": [
  {
   "cell_type": "markdown",
   "metadata": {},
   "source": [
    "# 13/12/2022"
   ]
  },
  {
   "cell_type": "markdown",
   "metadata": {},
   "source": [
    "# WAP to accept two numbers from the user and display their sum"
   ]
  },
  {
   "cell_type": "code",
   "execution_count": 4,
   "metadata": {},
   "outputs": [
    {
     "name": "stdout",
     "output_type": "stream",
     "text": [
      "enetr first number10\n",
      "enter secon number20\n",
      "sum of 10, 20 is 30\n"
     ]
    }
   ],
   "source": [
    "a = int(input(\"enetr first number\"))\n",
    "b = int(input(\"enter second number\"))\n",
    "sum = a+b\n",
    "print(\"sum of {}, {} is\".format(a,b),sum)"
   ]
  },
  {
   "cell_type": "markdown",
   "metadata": {},
   "source": [
    "# WAP to accept radius of a Circle from the user and calculate area and circumference"
   ]
  },
  {
   "cell_type": "code",
   "execution_count": 11,
   "metadata": {},
   "outputs": [
    {
     "name": "stdout",
     "output_type": "stream",
     "text": [
      "enter radius of circle5\n",
      "area of the circle is 78.5 and circumference of the circle is 31.400000000000002\n"
     ]
    }
   ],
   "source": [
    "r = float(input(\"enter radius of circle\"))\n",
    "PI=3.14\n",
    "area = PI*r*r\n",
    "circumference = 2*PI*r\n",
    "print(\"area of the circle is {} and circumference of the circle is {}\".format(area,circumference))"
   ]
  },
  {
   "cell_type": "markdown",
   "metadata": {},
   "source": [
    "# WAP to accept roll number , grade and percentage as input from the user and display it back"
   ]
  },
  {
   "cell_type": "code",
   "execution_count": 15,
   "metadata": {},
   "outputs": [
    {
     "name": "stdout",
     "output_type": "stream",
     "text": [
      "Enter roll number1589\n",
      "Enter your Gradea\n",
      "Enter Your Percentage5.3\n",
      "Roll Number 1589 Got the A Grade and 5.3 Percentage\n"
     ]
    }
   ],
   "source": [
    "roll_no = int(input(\"Enter roll number\"))\n",
    "Grade = input(\"Enter your Grade\")\n",
    "Percentage = float(input(\"Enter Your Percentage\"))\n",
    "print(\"Roll Number {} Got the {} Grade and {} Percentage\".format(roll_no,Grade.upper(),Percentage))"
   ]
  },
  {
   "cell_type": "markdown",
   "metadata": {},
   "source": [
    "# Write a program that asks the user to enter his/her name and age. Print out a message , displaying the user’s name along with the year in which they will turn 100 years old"
   ]
  },
  {
   "cell_type": "code",
   "execution_count": 19,
   "metadata": {},
   "outputs": [
    {
     "name": "stdout",
     "output_type": "stream",
     "text": [
      "enter your nameRamesh\n",
      "enter your age25\n",
      "Your Name is Ramesh and You will cross 100 years in the year of 2097\n"
     ]
    }
   ],
   "source": [
    "Name = input(\"enter your name\")\n",
    "age = int(input(\"enter your age\"))\n",
    "hundredth_year = 2022 + (100 - age)  #2022 is current year\n",
    "print(\"Your Name is {} and You will cross 100 years in the year of {}\".format(Name,hundredth_year))"
   ]
  },
  {
   "cell_type": "markdown",
   "metadata": {},
   "source": [
    "# Write a program that asks the user to input 2 integers and adds them . Accept both the numbers in a single line only"
   ]
  },
  {
   "cell_type": "code",
   "execution_count": 25,
   "metadata": {},
   "outputs": [
    {
     "name": "stdout",
     "output_type": "stream",
     "text": [
      "enter two numbers10 20\n",
      "sum of two integers is 30\n"
     ]
    }
   ],
   "source": [
    "a,b=map(int, input(\"enter two numbers\").split())\n",
    "print(\"sum of two integers is {}\".format(a+b))"
   ]
  },
  {
   "cell_type": "markdown",
   "metadata": {},
   "source": [
    "# Write a Python program which accepts the user's first and last name and print them in reverse order with a space between them"
   ]
  },
  {
   "cell_type": "code",
   "execution_count": 34,
   "metadata": {},
   "outputs": [
    {
     "name": "stdout",
     "output_type": "stream",
     "text": [
      "enter your first name and last nameNangi Ramesh\n",
      "Reverse order of your name is hsemaR ignaN\n"
     ]
    }
   ],
   "source": [
    "fname,lname = input(\"enter your first name and last name\").split()\n",
    "print(\"Reverse order of your name is\",lname[::-1],fname[::-1])"
   ]
  },
  {
   "cell_type": "markdown",
   "metadata": {},
   "source": [
    "# 15/12/2022"
   ]
  },
  {
   "cell_type": "markdown",
   "metadata": {},
   "source": [
    "# WAP to accept an integer from the user and check whether it is an even or odd "
   ]
  },
  {
   "cell_type": "code",
   "execution_count": 36,
   "metadata": {},
   "outputs": [
    {
     "name": "stdout",
     "output_type": "stream",
     "text": [
      "enter number7\n",
      "7 is odd number\n"
     ]
    }
   ],
   "source": [
    "n = int(input(\"enter number\"))\n",
    "if n%2==0:\n",
    "    print(\"{} is Even number\".format(n))\n",
    "else:\n",
    "    print(\"{} is odd number\".format(n))"
   ]
  },
  {
   "cell_type": "markdown",
   "metadata": {},
   "source": [
    "# WAP to accept a character from the user and check whether it is a capital letter or small letter. Assume user will input only alphabets"
   ]
  },
  {
   "cell_type": "code",
   "execution_count": 54,
   "metadata": {},
   "outputs": [
    {
     "name": "stdout",
     "output_type": "stream",
     "text": [
      "enter your charctersA\n",
      "A is capital letter\n"
     ]
    }
   ],
   "source": [
    "ch = input(\"enter your charcters\")\n",
    "if 'A'<=ch<='Z':\n",
    "    print(\"{} is capital letter\".format(ch))\n",
    "elif 'a'<=ch<='z':\n",
    "    print(\"{} is small letter\".format(ch))\n",
    "else:\n",
    "    print(\"you have to enter only alphabets\")"
   ]
  },
  {
   "cell_type": "markdown",
   "metadata": {},
   "source": [
    "# WAP to accept a character from the user and check whether it is a capital letter or small letter or a digit or some special symbol"
   ]
  },
  {
   "cell_type": "code",
   "execution_count": 59,
   "metadata": {},
   "outputs": [
    {
     "name": "stdout",
     "output_type": "stream",
     "text": [
      "enter your input!\n",
      "! is special symbol\n"
     ]
    }
   ],
   "source": [
    "i = input(\"enter your input\")\n",
    "if 'A'<=i<='Z':\n",
    "    print(\"{} is capital letter\".format(i))\n",
    "elif 'a'<=i<='z':\n",
    "    print(\"{} is small letter\".format(i))\n",
    "elif '0'<=i<='9':\n",
    "    print(\"{} is digit\".format(i))\n",
    "else:\n",
    "    print(\"{} is special symbol\".format(i))"
   ]
  },
  {
   "cell_type": "markdown",
   "metadata": {},
   "source": [
    "# WAP to accept 3 integers from the user and without using any logical operator and cascading of relational operators , find out the greatest number amongst them"
   ]
  },
  {
   "cell_type": "code",
   "execution_count": 65,
   "metadata": {},
   "outputs": [
    {
     "name": "stdout",
     "output_type": "stream",
     "text": [
      "enter three numbers56 2000 3\n",
      "2000 is greter than the 56,3\n"
     ]
    }
   ],
   "source": [
    "a,b,c=map(int,input(\"enter three numbers\").split())\n",
    "if a>b:\n",
    "    if a>c:\n",
    "        print(\"{} is greter than the {},{}\".format(a,b,c))\n",
    "elif b>a:\n",
    "    if b>c:\n",
    "        print(\"{} is greter than the {},{}\".format(b,a,c))\n",
    "else:\n",
    "    print(\"{} is greter than the {},{}\".format(c,a,b))"
   ]
  },
  {
   "cell_type": "markdown",
   "metadata": {},
   "source": [
    "# WAP to accept a year from the user and check whether it is a leap year or not"
   ]
  },
  {
   "cell_type": "code",
   "execution_count": 69,
   "metadata": {},
   "outputs": [
    {
     "name": "stdout",
     "output_type": "stream",
     "text": [
      "enter a year2017\n",
      "2017 is not leap year\n"
     ]
    }
   ],
   "source": [
    "year = int(input(\"enter a year\"))\n",
    "if year%400==0:\n",
    "    print(\"{} is leap year\".format(year))\n",
    "else:\n",
    "    print(\"{} is not leap year\".format(year))"
   ]
  },
  {
   "cell_type": "markdown",
   "metadata": {},
   "source": [
    "# You have to develop a number guessing game"
   ]
  },
  {
   "cell_type": "code",
   "execution_count": 11,
   "metadata": {},
   "outputs": [
    {
     "name": "stdout",
     "output_type": "stream",
     "text": [
      "enter your guessing numbers between 1 to 100:50\n",
      "Number too large\n",
      "enter your guessing numbers between 1 to 100:40\n",
      "Number too large\n",
      "enter your guessing numbers between 1 to 100:30\n",
      "Number too large\n",
      "enter your guessing numbers between 1 to 100:20\n",
      "Number too large\n",
      "enter your guessing numbers between 1 to 100:10\n",
      "Number too large\n",
      "enter your guessing numbers between 1 to 100:5\n",
      "Number too large\n",
      "enter your guessing numbers between 1 to 100:4\n",
      "Number too large\n",
      "enter your guessing numbers between 1 to 100:3\n",
      "Number too large\n",
      "enter your guessing numbers between 1 to 100:2\n",
      "Number too large\n",
      "enter your guessing numbers between 1 to 100:1\n",
      "Congratulations! You guessed it right\n",
      "you are exiting from the game\n"
     ]
    }
   ],
   "source": [
    "import random\n",
    "num = random.randint(1,100)\n",
    "n = None\n",
    "while n!=0:\n",
    "    n = int(input(\"enter your guessing numbers between 1 to 100:\"))\n",
    "    if num==n:\n",
    "        print(\"Congratulations! You guessed it right\")\n",
    "        print(\"you are exiting from the game\")\n",
    "        break\n",
    "    if n==0:\n",
    "        print(\"you are exiting from the game\")  \n",
    "        break\n",
    "    else:\n",
    "        if n>num:\n",
    "             print(\"Number too large\")\n",
    "        elif n<num:\n",
    "            print(\"Number too small\")\n",
    "    \n",
    "   "
   ]
  },
  {
   "cell_type": "markdown",
   "metadata": {},
   "source": [
    "# Write a program to accept a string from the user and display it vertically but don’t display the vowels in it"
   ]
  },
  {
   "cell_type": "code",
   "execution_count": 131,
   "metadata": {},
   "outputs": [
    {
     "name": "stdout",
     "output_type": "stream",
     "text": [
      "enter your string:ramesh\n",
      "r\n",
      "m\n",
      "s\n",
      "h\n"
     ]
    }
   ],
   "source": [
    "c = input(\"enter your string:\")\n",
    "v = ['a','e','i','o','u']\n",
    "for i in c:\n",
    "    if i in v:\n",
    "        pass\n",
    "    else:\n",
    "        print(i)"
   ]
  },
  {
   "cell_type": "markdown",
   "metadata": {},
   "source": [
    "# Write a program to continuously accept integers from the user until the user types 0 and as soon as 0 is entered display sum of all the nos entered before 0"
   ]
  },
  {
   "cell_type": "code",
   "execution_count": 14,
   "metadata": {},
   "outputs": [
    {
     "name": "stdout",
     "output_type": "stream",
     "text": [
      "Enter integer values(0 to terminate:)6\n",
      "Enter integer values(0 to terminate:)3\n",
      "Enter integer values(0 to terminate:)5\n",
      "Enter integer values(0 to terminate:)2\n",
      "Enter integer values(0 to terminate:)0\n",
      "sum of integer values is 16\n"
     ]
    }
   ],
   "source": [
    "n = None\n",
    "l = []\n",
    "while n!=0:\n",
    "    n = int(input(\"Enter integer values(0 to terminate:)\"))\n",
    "    if n==0:\n",
    "        break\n",
    "    else:\n",
    "        l.append(n)\n",
    "print(\"sum of integer values is\",sum(l))"
   ]
  },
  {
   "cell_type": "markdown",
   "metadata": {},
   "source": [
    "# Write a program using a for loop to accept a string from the user and display it vertically but don’t display the vowels in it."
   ]
  },
  {
   "cell_type": "code",
   "execution_count": 3,
   "metadata": {},
   "outputs": [
    {
     "name": "stdout",
     "output_type": "stream",
     "text": [
      "enetr a string:ramesh\n",
      "r\n",
      "m\n",
      "s\n",
      "h\n"
     ]
    }
   ],
   "source": [
    "st = input(\"enetr a string:\")\n",
    "v =['a','e','i','o','u']\n",
    "for i in st:\n",
    "  if i in v:\n",
    "    pass\n",
    "  else:\n",
    "    print(i)"
   ]
  },
  {
   "cell_type": "markdown",
   "metadata": {},
   "source": [
    "# Write a program to accept an integer from the user and display the sum of all the numbers from 1 to that number"
   ]
  },
  {
   "cell_type": "code",
   "execution_count": 4,
   "metadata": {},
   "outputs": [
    {
     "name": "stdout",
     "output_type": "stream",
     "text": [
      "enter a number3\n",
      "sum of 1 to 3 numbers is  6\n"
     ]
    }
   ],
   "source": [
    "i = int(input(\"enter a number\"))\n",
    "s = 0\n",
    "for i in range(0,i+1):\n",
    "    s =s+i\n",
    "print(\"sum of 1 to {} numbers is \".format(i),s )"
   ]
  },
  {
   "cell_type": "markdown",
   "metadata": {},
   "source": [
    "# Write a program to accept an integer from the user and calculate its factorial"
   ]
  },
  {
   "cell_type": "code",
   "execution_count": 5,
   "metadata": {},
   "outputs": [
    {
     "name": "stdout",
     "output_type": "stream",
     "text": [
      "enter a number5\n",
      "factorial of 5 is 120\n"
     ]
    }
   ],
   "source": [
    "f = int(input(\"enter a number\"))\n",
    "fact = 1\n",
    "for i in range(1,f+1):\n",
    "    fact = fact*i\n",
    "print(\"factorial of {} is\".format(f),fact)"
   ]
  },
  {
   "cell_type": "markdown",
   "metadata": {},
   "source": [
    "# Write a program to print the following pattern "
   ]
  },
  {
   "cell_type": "code",
   "execution_count": 6,
   "metadata": {},
   "outputs": [
    {
     "name": "stdout",
     "output_type": "stream",
     "text": [
      "* * *\n",
      "* * *\n",
      "* * *\n",
      "* * *\n"
     ]
    }
   ],
   "source": [
    "for i in range(4):\n",
    "    print(\"* * *\",end='\\n')"
   ]
  },
  {
   "cell_type": "markdown",
   "metadata": {},
   "source": [
    "# Write a program to print the following pattern "
   ]
  },
  {
   "cell_type": "code",
   "execution_count": 7,
   "metadata": {},
   "outputs": [
    {
     "name": "stdout",
     "output_type": "stream",
     "text": [
      "* \n",
      "\n",
      "* * \n",
      "\n",
      "* * * \n",
      "\n",
      "* * * * \n",
      "\n"
     ]
    }
   ],
   "source": [
    "for i in range(4):\n",
    "    for j in range(i+1):\n",
    "        print('*',end=' ')\n",
    "    print(\"\\n\")"
   ]
  },
  {
   "cell_type": "markdown",
   "metadata": {},
   "source": [
    "# Write a program to print the following pattern "
   ]
  },
  {
   "cell_type": "code",
   "execution_count": 8,
   "metadata": {},
   "outputs": [
    {
     "name": "stdout",
     "output_type": "stream",
     "text": [
      "* * * * \n",
      "\n",
      "* * * \n",
      "\n",
      "* * \n",
      "\n",
      "* \n",
      "\n"
     ]
    }
   ],
   "source": [
    "for i in range(4,0,-1):\n",
    "    for j in range(i):\n",
    "        print('*',end=' ')\n",
    "    print(\"\\n\")"
   ]
  },
  {
   "cell_type": "markdown",
   "metadata": {},
   "source": [
    "# Write a program to accept an integer from the user and display all the numbers from 1 to that number. Repeat the process until the user enters 0"
   ]
  },
  {
   "cell_type": "code",
   "execution_count": 6,
   "metadata": {},
   "outputs": [
    {
     "name": "stdout",
     "output_type": "stream",
     "text": [
      "enter a number5\n",
      "1\n",
      "2\n",
      "3\n",
      "4\n",
      "5\n",
      "enter a number3\n",
      "1\n",
      "2\n",
      "3\n",
      "enter a number0\n"
     ]
    }
   ],
   "source": [
    "ip = None\n",
    "while ip!=0:\n",
    "    ip = int(input(\"enter a number\"))\n",
    "    for i in range(1,ip+1):\n",
    "        print(i)\n",
    "    if ip ==0:\n",
    "        break"
   ]
  },
  {
   "cell_type": "code",
   "execution_count": null,
   "metadata": {},
   "outputs": [],
   "source": []
  }
 ],
 "metadata": {
  "kernelspec": {
   "display_name": "Python 3",
   "language": "python",
   "name": "python3"
  },
  "language_info": {
   "codemirror_mode": {
    "name": "ipython",
    "version": 3
   },
   "file_extension": ".py",
   "mimetype": "text/x-python",
   "name": "python",
   "nbconvert_exporter": "python",
   "pygments_lexer": "ipython3",
   "version": "3.7.3"
  }
 },
 "nbformat": 4,
 "nbformat_minor": 5
}
