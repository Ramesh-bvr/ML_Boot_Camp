{
 "cells": [
  {
   "cell_type": "markdown",
   "id": "bbea3dae",
   "metadata": {},
   "source": [
    "# Write a Python program to check if the given number is a Disarium Number?"
   ]
  },
  {
   "cell_type": "code",
   "execution_count": 16,
   "id": "e9d345e9",
   "metadata": {},
   "outputs": [
    {
     "name": "stdout",
     "output_type": "stream",
     "text": [
      "Enter a Number11\n",
      "Given number is not Disarium Number\n"
     ]
    }
   ],
   "source": [
    "import math\n",
    "def Disarium_Number(n):\n",
    "    s =0\n",
    "    l = len(str(n))\n",
    "    x = n\n",
    "    while(x!=0):\n",
    "        r = x % 10\n",
    "        s = int(s+math.pow(r,l))\n",
    "        l = l-1\n",
    "        x = x//10\n",
    "    if s == n:\n",
    "        return 1\n",
    "    else:\n",
    "        return 0\n",
    "n = int(input(\"Enter a Number\"))\n",
    "if(Disarium_Number(n) == 1):\n",
    "    print(\"Given number is Disarium Number\")\n",
    "else:\n",
    "    print(\"Given number is not Disarium Number\")"
   ]
  },
  {
   "cell_type": "markdown",
   "id": "36eb464d",
   "metadata": {},
   "source": [
    "# Write a Python program to print all disarium numbers between 1 to 100?"
   ]
  },
  {
   "cell_type": "code",
   "execution_count": 36,
   "id": "6ff2fdea",
   "metadata": {},
   "outputs": [
    {
     "name": "stdout",
     "output_type": "stream",
     "text": [
      "Enter two numbers1 100\n",
      "1\n",
      "2\n",
      "3\n",
      "4\n",
      "5\n",
      "6\n",
      "7\n",
      "8\n",
      "9\n",
      "89\n"
     ]
    }
   ],
   "source": [
    "import math\n",
    "def find(l,u):\n",
    "    for i in range(l,u+1):\n",
    "        s = 0\n",
    "        l1 = len(str(i))\n",
    "        x = i\n",
    "        while(x!=0):\n",
    "            r = x%10\n",
    "            s = int(s+math.pow(r,l1))\n",
    "            l1 = l1-1\n",
    "            x = x//10\n",
    "        if s == i:\n",
    "            print(i)\n",
    "l , u = map(int,input(\"Enter two numbers\").split())\n",
    "find(l,u)\n",
    "        "
   ]
  },
  {
   "cell_type": "markdown",
   "id": "1b42c980",
   "metadata": {},
   "source": [
    "# Write a Python program to check if the given number is Happy Number"
   ]
  },
  {
   "cell_type": "code",
   "execution_count": 31,
   "id": "3a27f49c",
   "metadata": {},
   "outputs": [
    {
     "name": "stdout",
     "output_type": "stream",
     "text": [
      "enter a number10\n",
      "10 is a happy number\n"
     ]
    }
   ],
   "source": [
    "def isHappyNumber(num):    \n",
    "    rem = sum = 0     \n",
    "    while(num > 0):    \n",
    "        rem = num%10 \n",
    "        sum = sum + (rem*rem)  \n",
    "        num = num//10   \n",
    "    return sum\n",
    "        \n",
    "num = int(input(\"enter a number\"))\n",
    "result = num   \n",
    "while(result != 1 and result != 4):    \n",
    "    result = isHappyNumber(result)  \n",
    "        \n",
    "if(result == 1):    \n",
    "    print(str(num) + \" is a happy number\")     \n",
    "elif(result == 4):    \n",
    "    print(str(num) + \" is not a happy number\") "
   ]
  },
  {
   "cell_type": "markdown",
   "id": "bd9b857d",
   "metadata": {},
   "source": [
    "# Write a Python program to print all happy numbers between 1 and 100"
   ]
  },
  {
   "cell_type": "code",
   "execution_count": 35,
   "id": "edda4606",
   "metadata": {},
   "outputs": [
    {
     "name": "stdout",
     "output_type": "stream",
     "text": [
      "enter a number1 100\n",
      "1\n",
      "7\n",
      "10\n",
      "13\n",
      "19\n",
      "23\n",
      "28\n",
      "31\n",
      "32\n",
      "44\n",
      "49\n",
      "68\n",
      "70\n",
      "79\n",
      "82\n",
      "86\n",
      "91\n",
      "94\n",
      "97\n"
     ]
    }
   ],
   "source": [
    "def isHappyNumber(num):    \n",
    "    rem = sum = 0     \n",
    "    while(num > 0):    \n",
    "        rem = num%10 \n",
    "        sum = sum + (rem*rem)  \n",
    "        num = num//10   \n",
    "    return sum\n",
    "        \n",
    "num1,num2 = map(int,input(\"enter a number\").split())\n",
    "for i in range(num1,num2):\n",
    "    result = i   \n",
    "    while(result != 1 and result != 4):\n",
    "        result = isHappyNumber(result)  \n",
    "    if(result == 1):\n",
    "        print(i)     "
   ]
  },
  {
   "cell_type": "markdown",
   "id": "7f8b624c",
   "metadata": {},
   "source": [
    "# Write a Python program to determine whether the given number is a Harshad Number"
   ]
  },
  {
   "cell_type": "code",
   "execution_count": 39,
   "id": "84f7a50a",
   "metadata": {},
   "outputs": [
    {
     "name": "stdout",
     "output_type": "stream",
     "text": [
      "Enter a number156\n",
      "156 is  Harshad Number\n"
     ]
    }
   ],
   "source": [
    "def  Harshad_Number(num):\n",
    "    n =num\n",
    "    s =0\n",
    "    while(num>0):\n",
    "        r = num % 10\n",
    "        s = s + r\n",
    "        num = num//10\n",
    "    if n % s==0:\n",
    "        print(\"{} is  Harshad Number\".format(n))\n",
    "    else:\n",
    "         print(\"{} is  not Harshad Number\".format(n))\n",
    "num = int(input(\"Enter a number\"))\n",
    "Harshad_Number(num)\n",
    "        "
   ]
  },
  {
   "cell_type": "markdown",
   "id": "0e4a76e4",
   "metadata": {},
   "source": [
    "# Write a Python program to print all pronic numbers between 1 and 100"
   ]
  },
  {
   "cell_type": "code",
   "execution_count": 44,
   "id": "d8e9663a",
   "metadata": {},
   "outputs": [
    {
     "name": "stdout",
     "output_type": "stream",
     "text": [
      "Pronic numbers between 1 and 100: \n",
      "2\n",
      "6\n",
      "12\n",
      "20\n",
      "30\n",
      "42\n",
      "56\n",
      "72\n",
      "90\n"
     ]
    }
   ],
   "source": [
    "def isPronicNumber(num):  \n",
    "    flag = False  \n",
    "    for j in range(1, num+1):  \n",
    "        if((j*(j+1)) == num):  \n",
    "            flag = True  \n",
    "            break \n",
    "    return flag;   \n",
    "print(\"Pronic numbers between 1 and 100: \") \n",
    "for i in range(1, 101):  \n",
    "    if(isPronicNumber(i)):  \n",
    "        print(i) \n",
    "          "
   ]
  }
 ],
 "metadata": {
  "kernelspec": {
   "display_name": "Python 3 (ipykernel)",
   "language": "python",
   "name": "python3"
  },
  "language_info": {
   "codemirror_mode": {
    "name": "ipython",
    "version": 3
   },
   "file_extension": ".py",
   "mimetype": "text/x-python",
   "name": "python",
   "nbconvert_exporter": "python",
   "pygments_lexer": "ipython3",
   "version": "3.9.12"
  }
 },
 "nbformat": 4,
 "nbformat_minor": 5
}
