{
 "cells": [
  {
   "cell_type": "markdown",
   "id": "a5cd7a2f",
   "metadata": {},
   "source": [
    "# How do you distinguish between shutil.copy() and shutil.copytree()?"
   ]
  },
  {
   "cell_type": "code",
   "execution_count": null,
   "id": "812aca33",
   "metadata": {},
   "outputs": [],
   "source": [
    "shutil.copy() function will copy a single file\n",
    "shutil.copytree() will copy an entire folder, along with all its contents"
   ]
  },
  {
   "cell_type": "markdown",
   "id": "766bf6ec",
   "metadata": {},
   "source": [
    "# 2. What function is used to rename files?"
   ]
  },
  {
   "cell_type": "code",
   "execution_count": null,
   "id": "daa387ce",
   "metadata": {},
   "outputs": [],
   "source": [
    "shutil.move()"
   ]
  },
  {
   "cell_type": "markdown",
   "id": "a3ef86bd",
   "metadata": {},
   "source": [
    "# What is the difference between the delete functions in the send2trash and shutil modules?"
   ]
  },
  {
   "cell_type": "code",
   "execution_count": null,
   "id": "83e525f7",
   "metadata": {},
   "outputs": [],
   "source": [
    "send2trash functions will move a file or folder to the recycle bin,shutil functions will permanently delete files"
   ]
  },
  {
   "cell_type": "markdown",
   "id": "9f41a980",
   "metadata": {},
   "source": [
    "# 4.ZipFile objects have a close() method just like File objects’ close() method. What ZipFile method is equivalent to File objects’ open() method?"
   ]
  },
  {
   "cell_type": "code",
   "execution_count": null,
   "id": "fbfc1879",
   "metadata": {},
   "outputs": [],
   "source": [
    " zipfile.ZipFile() function is equivalent to the open() function"
   ]
  },
  {
   "cell_type": "markdown",
   "id": "ca21b1b2",
   "metadata": {},
   "source": [
    "# Create a programme that searches a folder tree for files with a certain file extension (such as .pdf or .jpg). Copy these files from whatever location they are in to a new folder."
   ]
  },
  {
   "cell_type": "code",
   "execution_count": 2,
   "id": "bdb74a00",
   "metadata": {},
   "outputs": [
    {
     "name": "stdout",
     "output_type": "stream",
     "text": [
      "Enter the absolute path of the source folder:C:\\Users\\Ramesh\\Documents\\Ramesh\\My_workspace\n",
      "Enter the type of file to copy (such as .pdf or .jpg): .pdf\n",
      "Enter the absolute path of the destination folder: Desktop\n"
     ]
    }
   ],
   "source": [
    "import os, shutil\n",
    "sourcePath = input(\"Enter the absolute path of the source folder:\")\n",
    "fileExtType = input(\"Enter the type of file to copy (such as .pdf or .jpg): \").lower()\n",
    "destPath = input(\"Enter the absolute path of the destination folder: \")\n",
    "\n",
    "for foldername, subfolders, filenames in os.walk(sourcePath):\n",
    "    for filename in filenames:\n",
    "        if filename.lower().endswith(fileExtType):\n",
    "            copySourcePath = os.path.join(foldername, filename)\n",
    "            shutil.copy(copySourcePath, destPath)\n",
    "        else:\n",
    "            continue\n",
    "\n"
   ]
  }
 ],
 "metadata": {
  "kernelspec": {
   "display_name": "Python 3 (ipykernel)",
   "language": "python",
   "name": "python3"
  },
  "language_info": {
   "codemirror_mode": {
    "name": "ipython",
    "version": 3
   },
   "file_extension": ".py",
   "mimetype": "text/x-python",
   "name": "python",
   "nbconvert_exporter": "python",
   "pygments_lexer": "ipython3",
   "version": "3.9.12"
  }
 },
 "nbformat": 4,
 "nbformat_minor": 5
}
