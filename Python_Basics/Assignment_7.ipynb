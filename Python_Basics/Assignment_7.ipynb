{
 "cells": [
  {
   "cell_type": "markdown",
   "id": "45509829",
   "metadata": {},
   "source": [
    "# What is the name of the feature responsible for generating Regex objects?"
   ]
  },
  {
   "cell_type": "code",
   "execution_count": null,
   "id": "831df864",
   "metadata": {},
   "outputs": [],
   "source": [
    "re.compile()"
   ]
  },
  {
   "cell_type": "markdown",
   "id": "182ffc37",
   "metadata": {},
   "source": [
    "# Why do raw strings often appear in Regex objects?"
   ]
  },
  {
   "cell_type": "code",
   "execution_count": null,
   "id": "451cae40",
   "metadata": {},
   "outputs": [],
   "source": [
    "Raw strings are used so that backslashes do not have to be escaped"
   ]
  },
  {
   "cell_type": "markdown",
   "id": "efd6edc6",
   "metadata": {},
   "source": [
    "# 3. What is the return value of the search() method?"
   ]
  },
  {
   "cell_type": "code",
   "execution_count": null,
   "id": "658c2e15",
   "metadata": {},
   "outputs": [],
   "source": [
    "match objects"
   ]
  },
  {
   "cell_type": "markdown",
   "id": "98cfbc1a",
   "metadata": {},
   "source": [
    "# From a Match item, how do you get the actual strings that match the pattern?"
   ]
  },
  {
   "cell_type": "code",
   "execution_count": null,
   "id": "d93d5fa8",
   "metadata": {},
   "outputs": [],
   "source": [
    "The group() used to get match patterns"
   ]
  },
  {
   "cell_type": "markdown",
   "id": "4cdbdf79",
   "metadata": {},
   "source": [
    "# In the regex which created from the r'(\\d\\d\\d)-(\\d\\d\\d-\\d\\d\\d\\d)', what does group zero cover?Group 2? Group 1?"
   ]
  },
  {
   "cell_type": "code",
   "execution_count": null,
   "id": "ce6bbf5d",
   "metadata": {},
   "outputs": [],
   "source": [
    "group zero-entire match\n",
    "group 1  ---first set of parentheses\n",
    "group 2 --- second set of parentheses"
   ]
  },
  {
   "cell_type": "markdown",
   "id": "71f95bfd",
   "metadata": {},
   "source": [
    "# In standard expression syntax, parentheses and intervals have distinct meanings. How can you tell a regex that you want it to fit real parentheses and periods?"
   ]
  },
  {
   "cell_type": "code",
   "execution_count": null,
   "id": "2f0bb7d6",
   "metadata": {},
   "outputs": [],
   "source": [
    "Periods and parentheses can be escaped with a backslash: \\., \\(, and \\)."
   ]
  },
  {
   "cell_type": "markdown",
   "id": "e05324b8",
   "metadata": {},
   "source": [
    "# 7. The findall() method returns a string list or a list of string tuples. What causes it to return one of the two options?"
   ]
  },
  {
   "cell_type": "code",
   "execution_count": null,
   "id": "febcb720",
   "metadata": {},
   "outputs": [],
   "source": [
    "If the regex has no groups, a list of strings is returned. If the regex has groups, a list of tuples of strings is returned"
   ]
  },
  {
   "cell_type": "markdown",
   "id": "3963f457",
   "metadata": {},
   "source": [
    "# 8. In standard expressions, what does the | character mean?"
   ]
  },
  {
   "cell_type": "code",
   "execution_count": null,
   "id": "1588b1ce",
   "metadata": {},
   "outputs": [],
   "source": [
    "\"either,or\" betweem in twp gropus"
   ]
  },
  {
   "cell_type": "markdown",
   "id": "f1eb51c5",
   "metadata": {},
   "source": [
    "# In regular expressions, what does the character stand for?"
   ]
  },
  {
   "cell_type": "code",
   "execution_count": null,
   "id": "d7de38fe",
   "metadata": {},
   "outputs": [],
   "source": []
  },
  {
   "cell_type": "markdown",
   "id": "39177a2c",
   "metadata": {},
   "source": [
    "# 10.In regular expressions, what is the difference between the + and * characters?"
   ]
  },
  {
   "cell_type": "code",
   "execution_count": null,
   "id": "75b9e693",
   "metadata": {},
   "outputs": [],
   "source": [
    "+ matches one or more\n",
    "* matches zero or more"
   ]
  },
  {
   "cell_type": "markdown",
   "id": "f3c7258c",
   "metadata": {},
   "source": [
    "# What is the difference between {4} and {4,5} in regular expression?"
   ]
  },
  {
   "cell_type": "code",
   "execution_count": null,
   "id": "0fe1eecb",
   "metadata": {},
   "outputs": [],
   "source": [
    "The {3} matches exactly three instances of the preceding group. The {3,5} matches between three and five instances."
   ]
  },
  {
   "cell_type": "markdown",
   "id": "a49edac5",
   "metadata": {},
   "source": [
    "# What do you mean by the \\d, \\w, and \\s shorthand character classes signify in regular expressions?"
   ]
  },
  {
   "cell_type": "code",
   "execution_count": null,
   "id": "f713cfdf",
   "metadata": {},
   "outputs": [],
   "source": [
    " \\d match a single digit\n",
    "\\w match a single word\n",
    "\\s match a single space "
   ]
  },
  {
   "cell_type": "markdown",
   "id": "e99f21b1",
   "metadata": {},
   "source": [
    "# What do means by \\D, \\W, and \\S shorthand character classes signify in regular expressions?"
   ]
  },
  {
   "cell_type": "code",
   "execution_count": null,
   "id": "fe29d9fe",
   "metadata": {},
   "outputs": [],
   "source": [
    " \\d match a not single digit\n",
    "\\w match a not single word\n",
    "\\s match a not single space "
   ]
  },
  {
   "cell_type": "markdown",
   "id": "85361ed6",
   "metadata": {},
   "source": [
    "# What is the difference between .*? and .*?"
   ]
  },
  {
   "cell_type": "code",
   "execution_count": null,
   "id": "a2ab34a0",
   "metadata": {},
   "outputs": [],
   "source": []
  },
  {
   "cell_type": "markdown",
   "id": "d0454a1a",
   "metadata": {},
   "source": [
    "# What is the syntax for matching both numbers and lowercase letters with a character class?"
   ]
  },
  {
   "cell_type": "code",
   "execution_count": null,
   "id": "6df78b22",
   "metadata": {},
   "outputs": [],
   "source": [
    " [0-9a-z] or [a-z0-9]"
   ]
  },
  {
   "cell_type": "markdown",
   "id": "3216db2f",
   "metadata": {},
   "source": [
    "# 16. What is the procedure for making a normal expression in regax case insensitive?"
   ]
  },
  {
   "cell_type": "code",
   "execution_count": null,
   "id": "f9a93d20",
   "metadata": {},
   "outputs": [],
   "source": [
    "re.IGNORECASE as the second argument to re.compile() will make the matching case insensitive"
   ]
  },
  {
   "cell_type": "markdown",
   "id": "8d17f4bc",
   "metadata": {},
   "source": [
    "# What does the . character normally match? What does it match if re.DOTALL is passed as 2nd argument in re.compile()?"
   ]
  },
  {
   "cell_type": "code",
   "execution_count": null,
   "id": "256ea93e",
   "metadata": {},
   "outputs": [],
   "source": [
    "The '.' character normally matches any character except the newline character. If re.DOTALL is passed as the second argument to re.compile(), then the dot will also match newline characters."
   ]
  },
  {
   "cell_type": "markdown",
   "id": "d0fb40df",
   "metadata": {},
   "source": [
    "# If numReg = re.compile(r&#39;\\d+&#39;), what will numRegex.sub(&#39;X&#39;, &#39;11 drummers, 10 pipers, five rings, 4hen&#39;) return?"
   ]
  },
  {
   "cell_type": "code",
   "execution_count": null,
   "id": "7bd22946",
   "metadata": {},
   "outputs": [],
   "source": [
    "'X drummers, X pipers, five rings, 4 hens'"
   ]
  },
  {
   "cell_type": "markdown",
   "id": "5b8a5f55",
   "metadata": {},
   "source": [
    "# What does passing re.VERBOSE as the 2nd argument to re.compile() allow to do?"
   ]
  },
  {
   "cell_type": "code",
   "execution_count": null,
   "id": "ed4e643d",
   "metadata": {},
   "outputs": [],
   "source": [
    "re.VERBOSE argument allows you to add whitespace and comments"
   ]
  },
  {
   "cell_type": "markdown",
   "id": "1d7e0732",
   "metadata": {},
   "source": [
    "# 20. How would you write a regex that match a number with comma for every three digits? It must match the given following:"
   ]
  },
  {
   "cell_type": "code",
   "execution_count": null,
   "id": "c9b8de17",
   "metadata": {},
   "outputs": [],
   "source": [
    "re.compile(r'^\\d{1,3}(,\\d{3})*$') "
   ]
  },
  {
   "cell_type": "markdown",
   "id": "fb8f3c6f",
   "metadata": {},
   "source": [
    "# How would you write a regex that matches the full name of someone whose last name isWatanabe? You can assume that the first name that comes before it will always be one word thatbegins with a capital letter. The regex must match the following:"
   ]
  },
  {
   "cell_type": "code",
   "execution_count": null,
   "id": "323116d6",
   "metadata": {},
   "outputs": [],
   "source": [
    "re.compile(r'[A-Z][a-z]*\\sNakamoto')"
   ]
  },
  {
   "cell_type": "markdown",
   "id": "3d3bcfb5",
   "metadata": {},
   "source": [
    "# How would you write a regex that matches a sentence where the first word is either Alice, Bob,or Carol; the second word is either eats, pets, or throws; the third word is apples, cats, or baseballs;and the sentence ends with a period? This regex should be case-insensitive. It must match thefollowing:"
   ]
  },
  {
   "cell_type": "code",
   "execution_count": null,
   "id": "5d1eca69",
   "metadata": {},
   "outputs": [],
   "source": [
    "re.compile(r'(Alice|Bob|Carol)\\s(eats|pets|throws)\\s(apples|cats|baseballs)\\.', re.IGNORECASE)"
   ]
  },
  {
   "cell_type": "code",
   "execution_count": null,
   "id": "2cacf94d",
   "metadata": {},
   "outputs": [],
   "source": []
  }
 ],
 "metadata": {
  "kernelspec": {
   "display_name": "Python 3 (ipykernel)",
   "language": "python",
   "name": "python3"
  },
  "language_info": {
   "codemirror_mode": {
    "name": "ipython",
    "version": 3
   },
   "file_extension": ".py",
   "mimetype": "text/x-python",
   "name": "python",
   "nbconvert_exporter": "python",
   "pygments_lexer": "ipython3",
   "version": "3.9.12"
  }
 },
 "nbformat": 4,
 "nbformat_minor": 5
}
