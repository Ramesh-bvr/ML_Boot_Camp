{
 "cells": [
  {
   "cell_type": "markdown",
   "id": "ca46742c",
   "metadata": {},
   "source": [
    "# Write a Python program to Extract Unique values dictionary values"
   ]
  },
  {
   "cell_type": "code",
   "execution_count": 1,
   "id": "f0724f99",
   "metadata": {},
   "outputs": [
    {
     "name": "stdout",
     "output_type": "stream",
     "text": [
      "How many elements you want in the dictionary2\n",
      "Enter dictionary values((key values))1 2\n",
      "Enter dictionary values((key values))2 2\n",
      "orginal dictionary: {'1': '2', '2': '2'}\n"
     ]
    },
    {
     "data": {
      "text/plain": [
       "{'2'}"
      ]
     },
     "execution_count": 1,
     "metadata": {},
     "output_type": "execute_result"
    }
   ],
   "source": [
    "def uni(d):\n",
    "    re=[]\n",
    "    for i in d.values():\n",
    "        re.append(i)\n",
    "    return set(re)\n",
    "n = int(input(\"How many elements you want in the dictionary\"))          \n",
    "d ={}                     \n",
    "for i in range(n):        \n",
    "    text = input(\"Enter dictionary values((key values))\").split()   \n",
    "    d[text[0]] = text[1]      \n",
    "print(\"orginal dictionary:\",d)\n",
    "uni(d)\n"
   ]
  },
  {
   "cell_type": "markdown",
   "id": "49db8341",
   "metadata": {},
   "source": [
    "# Write a Python program to find the sum of all items in a dictionary"
   ]
  },
  {
   "cell_type": "code",
   "execution_count": 6,
   "id": "2a86514a",
   "metadata": {},
   "outputs": [
    {
     "name": "stdout",
     "output_type": "stream",
     "text": [
      "How many elements you want in the dictionary:3\n",
      "Enter dictionary values(key value)1 32\n",
      "Enter dictionary values(key value)2 33\n",
      "Enter dictionary values(key value)3 34\n",
      "dictionary {'1': '32', '2': '33', '3': '34'}\n"
     ]
    },
    {
     "data": {
      "text/plain": [
       "99"
      ]
     },
     "execution_count": 6,
     "metadata": {},
     "output_type": "execute_result"
    }
   ],
   "source": [
    "def sum1(d):\n",
    "    l =[]\n",
    "    for i in d:\n",
    "        l.append(d[i])\n",
    "    l1 =map(int,l)\n",
    "    return sum(l1)\n",
    "        \n",
    "n = int(input(\"How many elements you want in the dictionary:\"))\n",
    "d = {}\n",
    "for i in range(n):\n",
    "    txt = input(\"Enter dictionary values(key value)\").split()\n",
    "    d[txt[0]] = txt[1]\n",
    "print(\"dictionary\",d)\n",
    "sum1(d)"
   ]
  },
  {
   "cell_type": "markdown",
   "id": "8d8f56dc",
   "metadata": {},
   "source": [
    "# Write a Python program to Merging two Dictionaries"
   ]
  },
  {
   "cell_type": "code",
   "execution_count": 10,
   "id": "c34cb5c5",
   "metadata": {},
   "outputs": [
    {
     "name": "stdout",
     "output_type": "stream",
     "text": [
      "How many elements you want in the dictionary 1:2\n",
      "Enter dictionary values 1(key value)1 2\n",
      "Enter dictionary values 1(key value)2 3\n",
      "dictionary 1 {'1': '2', '2': '3'}\n",
      "How many elements you want in the dictionary 2:3\n",
      "Enter dictionary values 2(key value)5 6\n",
      "Enter dictionary values 2(key value)6 3\n",
      "Enter dictionary values 2(key value)7 8\n",
      "dictionary 2 {'5': '6', '6': '3', '7': '8'}\n"
     ]
    },
    {
     "data": {
      "text/plain": [
       "{'1': '2', '2': '3', '5': '6', '6': '3', '7': '8'}"
      ]
     },
     "execution_count": 10,
     "metadata": {},
     "output_type": "execute_result"
    }
   ],
   "source": [
    "def merg(d1,d2):\n",
    "    res = d1 | d2\n",
    "    return res\n",
    "n1 = int(input(\"How many elements you want in the dictionary 1:\"))\n",
    "d1 = {}\n",
    "for i in range(n1):\n",
    "    txt = input(\"Enter dictionary values 1(key value)\").split()\n",
    "    d1[txt[0]] = txt[1]\n",
    "print(\"dictionary 1\",d1)\n",
    "n2 = int(input(\"How many elements you want in the dictionary 2:\"))\n",
    "d2 = {}\n",
    "for i in range(n2):\n",
    "    txt = input(\"Enter dictionary values 2(key value)\").split()\n",
    "    d2[txt[0]] = txt[1]\n",
    "print(\"dictionary 2\",d2)\n",
    "merg(d1,d2)"
   ]
  },
  {
   "cell_type": "markdown",
   "id": "7bbc71cf",
   "metadata": {},
   "source": [
    "# Write a Python program to convert key-values list to flat dictionary"
   ]
  },
  {
   "cell_type": "code",
   "execution_count": 1,
   "id": "a36c017b",
   "metadata": {},
   "outputs": [
    {
     "name": "stdout",
     "output_type": "stream",
     "text": [
      "The original dictionary is : {'month': [1, 2, 3], 'name': ['Jan', 'Feb', 'March']}\n",
      "Flattened dictionary : {1: 'Jan', 2: 'Feb', 3: 'March'}\n"
     ]
    }
   ],
   "source": [
    "test_dict = {'month' : [1, 2, 3],\n",
    "            'name' : ['Jan', 'Feb', 'March']}\n",
    "\n",
    "print(\"The original dictionary is : \" + str(test_dict))\n",
    " \n",
    "x=list(test_dict.values())\n",
    "a=x[0]\n",
    "b=x[1]\n",
    "d=dict()\n",
    "for i in range(0,len(a)):\n",
    "    d[a[i]]=b[i]\n",
    "# printing result\n",
    "print(\"Flattened dictionary : \" + str(d))"
   ]
  },
  {
   "cell_type": "markdown",
   "id": "40594630",
   "metadata": {},
   "source": [
    "# Write a Python program to insertion at the beginning in OrderedDict"
   ]
  },
  {
   "cell_type": "code",
   "execution_count": 2,
   "id": "558cfde2",
   "metadata": {},
   "outputs": [
    {
     "name": "stdout",
     "output_type": "stream",
     "text": [
      "Resultant Dictionary : OrderedDict([('manjeet', '3'), ('akshat', '1'), ('nikhil', '2')])\n"
     ]
    }
   ],
   "source": [
    "from collections import OrderedDict\n",
    "iniordered_dict = OrderedDict([('akshat', '1'), ('nikhil', '2')])\n",
    "iniordered_dict.update({'manjeet':'3'})\n",
    "iniordered_dict.move_to_end('manjeet', last = False)\n",
    "print (\"Resultant Dictionary : \"+str(iniordered_dict))"
   ]
  },
  {
   "cell_type": "markdown",
   "id": "927c95ea",
   "metadata": {},
   "source": [
    "# Write a Python program to check order of character in string using OrderedDict()?"
   ]
  },
  {
   "cell_type": "code",
   "execution_count": 3,
   "id": "dc0adb89",
   "metadata": {},
   "outputs": [
    {
     "name": "stdout",
     "output_type": "stream",
     "text": [
      "False\n",
      "True\n"
     ]
    }
   ],
   "source": [
    "from collections import OrderedDict \n",
    "def checkOrder(string, pattern): \n",
    "    dic = OrderedDict.fromkeys(string) \n",
    "    ptr = 0\n",
    "    for key,value in dic.items(): \n",
    "        if (key == pattern[ptr]): \n",
    "            ptr = ptr + 1\n",
    "        if (ptr == (len(pattern))): \n",
    "            return 'True'\n",
    "    return 'False'\n",
    "\n",
    "string = 'Study tonight'\n",
    "pattern = 'stu'\n",
    "print (checkOrder(string,pattern))\n",
    "\n",
    "string2= 'Welcome'\n",
    "pattern2= 'cm'\n",
    "print (checkOrder(string2,pattern2)) "
   ]
  },
  {
   "cell_type": "markdown",
   "id": "4f1de22a",
   "metadata": {},
   "source": [
    "# Write a Python program to sort Python Dictionaries by Key or Value?"
   ]
  },
  {
   "cell_type": "code",
   "execution_count": 5,
   "id": "7ecce29b",
   "metadata": {},
   "outputs": [
    {
     "name": "stdout",
     "output_type": "stream",
     "text": [
      "{'rajnish': 9, 'ravi': 10, 'sanjeev': 15, 'suraj': 32, 'yash': 2}\n"
     ]
    }
   ],
   "source": [
    "myDict = {'ravi': 10, 'rajnish': 9,\n",
    "        'sanjeev': 15, 'yash': 2, 'suraj': 32}\n",
    " \n",
    "myKeys = list(myDict.keys())\n",
    "myKeys.sort()\n",
    "sorted_dict = {i: myDict[i] for i in myKeys}\n",
    " \n",
    "print(sorted_dict)"
   ]
  },
  {
   "cell_type": "code",
   "execution_count": null,
   "id": "6d9b2876",
   "metadata": {},
   "outputs": [],
   "source": []
  }
 ],
 "metadata": {
  "kernelspec": {
   "display_name": "Python 3 (ipykernel)",
   "language": "python",
   "name": "python3"
  },
  "language_info": {
   "codemirror_mode": {
    "name": "ipython",
    "version": 3
   },
   "file_extension": ".py",
   "mimetype": "text/x-python",
   "name": "python",
   "nbconvert_exporter": "python",
   "pygments_lexer": "ipython3",
   "version": "3.9.12"
  }
 },
 "nbformat": 4,
 "nbformat_minor": 5
}
