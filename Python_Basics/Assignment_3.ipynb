{
 "cells": [
  {
   "cell_type": "code",
   "execution_count": null,
   "id": "a8965a49",
   "metadata": {},
   "outputs": [],
   "source": [
    "#Why are functions advantageous to have in your programs?"
   ]
  },
  {
   "cell_type": "code",
   "execution_count": null,
   "id": "9fbf0677",
   "metadata": {},
   "outputs": [],
   "source": [
    "Functions reduce the need for duplicate code.This makes program shorter, easier to read and easier to update "
   ]
  },
  {
   "cell_type": "code",
   "execution_count": null,
   "id": "e5b7e577",
   "metadata": {},
   "outputs": [],
   "source": [
    "#When does the code in a function run: when it is specified or when it is called"
   ]
  },
  {
   "cell_type": "code",
   "execution_count": null,
   "id": "3b24ad78",
   "metadata": {},
   "outputs": [],
   "source": [
    "The code in function excutes when the function is called ,not when the function is defined"
   ]
  },
  {
   "cell_type": "code",
   "execution_count": null,
   "id": "23a08a3a",
   "metadata": {},
   "outputs": [],
   "source": [
    "#What statement creates a function?"
   ]
  },
  {
   "cell_type": "code",
   "execution_count": null,
   "id": "d3480be4",
   "metadata": {},
   "outputs": [],
   "source": [
    "The def statment creates a function"
   ]
  },
  {
   "cell_type": "code",
   "execution_count": null,
   "id": "d69519d0",
   "metadata": {},
   "outputs": [],
   "source": [
    "#What is the difference between a function and a function call"
   ]
  },
  {
   "cell_type": "code",
   "execution_count": null,
   "id": "53e7f4ce",
   "metadata": {},
   "outputs": [],
   "source": [
    "A function call is what moves the program execution into the function, and the function call evaluates to the function's return value"
   ]
  },
  {
   "cell_type": "code",
   "execution_count": null,
   "id": "cab52b03",
   "metadata": {},
   "outputs": [],
   "source": [
    "#How many global scopes are there in a Python program? How many local scopes"
   ]
  },
  {
   "cell_type": "code",
   "execution_count": null,
   "id": "7c9ab039",
   "metadata": {},
   "outputs": [],
   "source": [
    "There is one global scope and one loacl scope created whenever a function is called"
   ]
  },
  {
   "cell_type": "code",
   "execution_count": null,
   "id": "5924895f",
   "metadata": {},
   "outputs": [],
   "source": [
    "#What happens to variables in a local scope when the function call returns"
   ]
  },
  {
   "cell_type": "code",
   "execution_count": null,
   "id": "9cdafb88",
   "metadata": {},
   "outputs": [],
   "source": [
    "when the function returns, the local scope is removed, and all the variables in it are forgotten"
   ]
  },
  {
   "cell_type": "code",
   "execution_count": null,
   "id": "1fc7c77f",
   "metadata": {},
   "outputs": [],
   "source": [
    "#What is the concept of a return value? Is it possible to have a return value in an expression"
   ]
  },
  {
   "cell_type": "code",
   "execution_count": null,
   "id": "86bc3005",
   "metadata": {},
   "outputs": [],
   "source": [
    "A return value that a function call evaluates.A return value can be used as a expresion"
   ]
  },
  {
   "cell_type": "code",
   "execution_count": null,
   "id": "d5d3008a",
   "metadata": {},
   "outputs": [],
   "source": [
    "#If a function does not have a return statement, what is the return value of a call to that function"
   ]
  },
  {
   "cell_type": "code",
   "execution_count": null,
   "id": "f9170389",
   "metadata": {
    "scrolled": true
   },
   "outputs": [],
   "source": [
    "None"
   ]
  },
  {
   "cell_type": "code",
   "execution_count": null,
   "id": "b82a24ad",
   "metadata": {},
   "outputs": [],
   "source": [
    "#How do you make a function variable refer to the global variable"
   ]
  },
  {
   "cell_type": "code",
   "execution_count": null,
   "id": "15184ef3",
   "metadata": {},
   "outputs": [],
   "source": [
    "A global statement will force a variable in a function to refer to the global variable"
   ]
  },
  {
   "cell_type": "code",
   "execution_count": null,
   "id": "fcc61fc2",
   "metadata": {},
   "outputs": [],
   "source": [
    "# What is the data type of None"
   ]
  },
  {
   "cell_type": "code",
   "execution_count": null,
   "id": "4eaa2e3c",
   "metadata": {},
   "outputs": [],
   "source": [
    "Nonetype"
   ]
  },
  {
   "cell_type": "code",
   "execution_count": null,
   "id": "c848e97a",
   "metadata": {},
   "outputs": [],
   "source": [
    "#What does the sentence import areallyourpetsnamederic do"
   ]
  },
  {
   "cell_type": "code",
   "execution_count": null,
   "id": "4a5b8177",
   "metadata": {},
   "outputs": [],
   "source": [
    "That import statement imports a module named areallyourpetsnamederic"
   ]
  },
  {
   "cell_type": "code",
   "execution_count": null,
   "id": "c50b8f26",
   "metadata": {},
   "outputs": [],
   "source": [
    "# If you had a bacon() feature in a spam module, what would you call it after importing spam?"
   ]
  },
  {
   "cell_type": "code",
   "execution_count": null,
   "id": "82238600",
   "metadata": {},
   "outputs": [],
   "source": [
    "spam.bacon()"
   ]
  },
  {
   "cell_type": "code",
   "execution_count": null,
   "id": "ff030037",
   "metadata": {},
   "outputs": [],
   "source": [
    "#What can you do to save a programme from crashing if it encounters an error"
   ]
  },
  {
   "cell_type": "code",
   "execution_count": null,
   "id": "433d4080",
   "metadata": {},
   "outputs": [],
   "source": [
    "Place the line of code that might cause an error in a try clause."
   ]
  },
  {
   "cell_type": "code",
   "execution_count": null,
   "id": "f57ee577",
   "metadata": {},
   "outputs": [],
   "source": [
    "#What is the purpose of the try clause? What is the purpose of the except clause"
   ]
  },
  {
   "cell_type": "code",
   "execution_count": null,
   "id": "27c2cd9e",
   "metadata": {},
   "outputs": [],
   "source": [
    "The code that could potentially cause an error goes in the try clause.\n",
    "\n",
    "The code that executes if an error happens goes in the except clause."
   ]
  }
 ],
 "metadata": {
  "kernelspec": {
   "display_name": "Python 3 (ipykernel)",
   "language": "python",
   "name": "python3"
  },
  "language_info": {
   "codemirror_mode": {
    "name": "ipython",
    "version": 3
   },
   "file_extension": ".py",
   "mimetype": "text/x-python",
   "name": "python",
   "nbconvert_exporter": "python",
   "pygments_lexer": "ipython3",
   "version": "3.9.12"
  }
 },
 "nbformat": 4,
 "nbformat_minor": 5
}
