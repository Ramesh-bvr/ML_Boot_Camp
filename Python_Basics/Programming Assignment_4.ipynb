{
 "cells": [
  {
   "cell_type": "code",
   "execution_count": null,
   "id": "3f1355e2",
   "metadata": {},
   "outputs": [],
   "source": [
    "# Write a Python Program to Find the Factorial of a Number"
   ]
  },
  {
   "cell_type": "code",
   "execution_count": 16,
   "id": "98ca34eb",
   "metadata": {},
   "outputs": [
    {
     "name": "stdout",
     "output_type": "stream",
     "text": [
      "Enter a number:4\n"
     ]
    },
    {
     "data": {
      "text/plain": [
       "24"
      ]
     },
     "execution_count": 16,
     "metadata": {},
     "output_type": "execute_result"
    }
   ],
   "source": [
    "def factorial(n):\n",
    "    if n==0:\n",
    "        return 1\n",
    "    else:\n",
    "        return n * factorial(n-1)\n",
    "n = int(input(\"Enter a number:\"))\n",
    "factorial(n)"
   ]
  },
  {
   "cell_type": "code",
   "execution_count": null,
   "id": "a34c3293",
   "metadata": {},
   "outputs": [],
   "source": [
    "#Write a Python Program to Display the multiplication Table"
   ]
  },
  {
   "cell_type": "code",
   "execution_count": 4,
   "id": "02308359",
   "metadata": {},
   "outputs": [
    {
     "name": "stdout",
     "output_type": "stream",
     "text": [
      "enter number5\n",
      "5 * 1 = 5\n",
      "5 * 2 = 10\n",
      "5 * 3 = 15\n",
      "5 * 4 = 20\n",
      "5 * 5 = 25\n",
      "5 * 6 = 30\n",
      "5 * 7 = 35\n",
      "5 * 8 = 40\n",
      "5 * 9 = 45\n",
      "5 * 10 = 50\n"
     ]
    }
   ],
   "source": [
    "def mul(n):\n",
    "    for i in range(1,11):\n",
    "        m = n*i\n",
    "        print(n ,\"*\" ,i ,\"=\" ,m)\n",
    "n = int(input(\"enter number\"))\n",
    "mul(n)   "
   ]
  },
  {
   "cell_type": "code",
   "execution_count": null,
   "id": "9e695723",
   "metadata": {},
   "outputs": [],
   "source": [
    "#Write a Python Program to Print the Fibonacci sequence"
   ]
  },
  {
   "cell_type": "code",
   "execution_count": 6,
   "id": "4946c207",
   "metadata": {},
   "outputs": [
    {
     "name": "stdout",
     "output_type": "stream",
     "text": [
      "Enter a number10\n",
      "0\n",
      "1\n",
      "1\n",
      "2\n",
      "3\n",
      "5\n",
      "8\n",
      "13\n",
      "21\n",
      "34\n"
     ]
    }
   ],
   "source": [
    "def fibo(n):\n",
    "    if n<=1:\n",
    "        return n\n",
    "    else:\n",
    "        return fibo(n-1)+fibo(n-2)\n",
    "n = int(input(\"Enter a number\"))\n",
    "if n<=0:\n",
    "    print(\"enter positive integer\")\n",
    "else:\n",
    "    for i in range(n):\n",
    "        print(fibo(i))"
   ]
  },
  {
   "cell_type": "code",
   "execution_count": null,
   "id": "9684e226",
   "metadata": {},
   "outputs": [],
   "source": [
    "# Write a Python Program to Check Armstrong Number"
   ]
  },
  {
   "cell_type": "code",
   "execution_count": 28,
   "id": "392b522a",
   "metadata": {},
   "outputs": [
    {
     "name": "stdout",
     "output_type": "stream",
     "text": [
      "Enter a Number:4562\n",
      "Not Armstrong_Number\n"
     ]
    }
   ],
   "source": [
    "def Armstrong_Number(n):\n",
    "    s =0\n",
    "    le = len(str(n))\n",
    "    temp = n\n",
    "    while n>0:\n",
    "        r = n%10\n",
    "        s =s+(r**le)\n",
    "        n = n//10\n",
    "    if temp == s:\n",
    "        print(\"Armstrong_Number\")\n",
    "    else:\n",
    "        print(\"Not Armstrong_Number\")\n",
    "n = int(input(\"Enter a Number:\"))\n",
    "Armstrong_Number(n)"
   ]
  },
  {
   "cell_type": "code",
   "execution_count": null,
   "id": "b591cf56",
   "metadata": {},
   "outputs": [],
   "source": [
    " #Write a Python Program to Find Armstrong Number in an Interval"
   ]
  },
  {
   "cell_type": "code",
   "execution_count": 7,
   "id": "4f6376d0",
   "metadata": {},
   "outputs": [
    {
     "name": "stdout",
     "output_type": "stream",
     "text": [
      "Enter two numbers100 2000\n",
      "153\n",
      "370\n",
      "371\n",
      "407\n",
      "1634\n"
     ]
    }
   ],
   "source": [
    "def Armstrong_numbers(n1,n2):\n",
    "    for num in range(n1,n2+1):\n",
    "        le = len(str(num))\n",
    "        s = 0\n",
    "        temp = num\n",
    "        while temp>0:\n",
    "            r =temp % 10\n",
    "            s = s + (r**le)\n",
    "            temp = temp//10\n",
    "        if num == s:\n",
    "            print(num)\n",
    "n1,n2 = map(int,input(\"Enter two numbers\").split())\n",
    "Armstrong_numbers(n1,n2)"
   ]
  },
  {
   "cell_type": "code",
   "execution_count": null,
   "id": "7925836d",
   "metadata": {},
   "outputs": [],
   "source": [
    "#Write a Python Program to Find the Sum of Natural Numbers?"
   ]
  },
  {
   "cell_type": "code",
   "execution_count": 15,
   "id": "b0488cd4",
   "metadata": {},
   "outputs": [
    {
     "name": "stdout",
     "output_type": "stream",
     "text": [
      "Enter a number:10\n",
      "sum of first 10 Natural numbers is 55\n"
     ]
    }
   ],
   "source": [
    "def Sum_of_Natural_Numbers(n):\n",
    "    s = 0\n",
    "    for i in range(1,n+1):\n",
    "        s = s+i\n",
    "    print(\"sum of first {} Natural numbers is\".format(n),s)\n",
    "n = int(input(\"Enter a number:\"))\n",
    "Sum_of_Natural_Numbers(n)        "
   ]
  }
 ],
 "metadata": {
  "kernelspec": {
   "display_name": "Python 3 (ipykernel)",
   "language": "python",
   "name": "python3"
  },
  "language_info": {
   "codemirror_mode": {
    "name": "ipython",
    "version": 3
   },
   "file_extension": ".py",
   "mimetype": "text/x-python",
   "name": "python",
   "nbconvert_exporter": "python",
   "pygments_lexer": "ipython3",
   "version": "3.9.12"
  }
 },
 "nbformat": 4,
 "nbformat_minor": 5
}
