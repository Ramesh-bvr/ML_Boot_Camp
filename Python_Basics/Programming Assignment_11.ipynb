{
 "cells": [
  {
   "cell_type": "code",
   "execution_count": null,
   "id": "53cfb17d",
   "metadata": {},
   "outputs": [],
   "source": [
    "#Write a Python program to find words which are greater than given length k"
   ]
  },
  {
   "cell_type": "code",
   "execution_count": 2,
   "id": "1ad4ffa0",
   "metadata": {},
   "outputs": [
    {
     "name": "stdout",
     "output_type": "stream",
     "text": [
      "Enter string words:ram ravi suresh naresh\n",
      "from which number you want the words:2\n",
      "['naresh']\n"
     ]
    }
   ],
   "source": [
    "txt = input(\"Enter string words:\").split()\n",
    "k = int(input(\"from which number you want the words:\"))\n",
    "res = txt[k+1:]\n",
    "print(res)"
   ]
  },
  {
   "cell_type": "code",
   "execution_count": null,
   "id": "20572532",
   "metadata": {},
   "outputs": [],
   "source": [
    "#Write a Python program for removing i-th character from a string"
   ]
  },
  {
   "cell_type": "code",
   "execution_count": 4,
   "id": "49ccadda",
   "metadata": {},
   "outputs": [
    {
     "name": "stdout",
     "output_type": "stream",
     "text": [
      "enter a stringramesh\n",
      "enter which charcter you want remove from the string:0\n",
      "a\n",
      "m\n",
      "e\n",
      "s\n",
      "h\n"
     ]
    }
   ],
   "source": [
    "txt = input(\"enter a string\")\n",
    "ch = int(input(\"enter which charcter you want remove from the string:\"))\n",
    "for i in range(len(txt)):\n",
    "    if i != ch:\n",
    "        print(txt[i])"
   ]
  },
  {
   "cell_type": "code",
   "execution_count": null,
   "id": "fbb2592a",
   "metadata": {},
   "outputs": [],
   "source": [
    "# Write a Python program to split and join a string"
   ]
  },
  {
   "cell_type": "code",
   "execution_count": 9,
   "id": "7c674081",
   "metadata": {},
   "outputs": [
    {
     "name": "stdout",
     "output_type": "stream",
     "text": [
      "enter a textramesh suresh ravi\n",
      "['ramesh', 'suresh', 'ravi']\n",
      "ramesh-suresh-ravi\n"
     ]
    }
   ],
   "source": [
    "txt = input(\"enter a text\")\n",
    "s = txt.split(' ')   #spliting the text\n",
    "print(s)\n",
    "j = ('-'.join(s))    #joing\n",
    "print(j)"
   ]
  },
  {
   "cell_type": "code",
   "execution_count": null,
   "id": "7b092316",
   "metadata": {},
   "outputs": [],
   "source": [
    "#Write a Python to check if a given string is binary string or not"
   ]
  },
  {
   "cell_type": "code",
   "execution_count": 14,
   "id": "55ddf8a8",
   "metadata": {},
   "outputs": [
    {
     "name": "stdout",
     "output_type": "stream",
     "text": [
      "Enter a stringramesh01\n",
      "not a binary string\n"
     ]
    }
   ],
   "source": [
    "txt = input(\"Enter a string\")\n",
    "s= {'0','1'}\n",
    "p = set(txt)\n",
    "if  s == p or p == {'0'} or p == {'1'}:\n",
    "    print(\"Binary string\")\n",
    "else:\n",
    "    print(\"not a binary string\")"
   ]
  },
  {
   "cell_type": "code",
   "execution_count": null,
   "id": "74beebfa",
   "metadata": {},
   "outputs": [],
   "source": [
    "#Write a Python program to find uncommon words from two Strings"
   ]
  },
  {
   "cell_type": "code",
   "execution_count": 28,
   "id": "0f651d67",
   "metadata": {},
   "outputs": [
    {
     "name": "stdout",
     "output_type": "stream",
     "text": [
      "enter a string:ramesh ravi suresh\n",
      "Enter string2:ramesh ravi naresh\n"
     ]
    },
    {
     "data": {
      "text/plain": [
       "['suresh', 'naresh']"
      ]
     },
     "execution_count": 28,
     "metadata": {},
     "output_type": "execute_result"
    }
   ],
   "source": [
    "def uncommon(txt1,txt2):\n",
    "    re = []\n",
    "    for i in txt1:\n",
    "        if i not in txt2:\n",
    "            re.append(i)\n",
    "    for j in txt2:\n",
    "        if j not in txt1:\n",
    "            re.append(j)\n",
    "    return re\n",
    "    \n",
    "txt1 = input(\"enter a string:\").split()\n",
    "txt2 = input(\"Enter string2:\").split()\n",
    "uncommon(txt1,txt2)\n",
    "\n",
    "\n"
   ]
  },
  {
   "cell_type": "code",
   "execution_count": null,
   "id": "2b93babd",
   "metadata": {},
   "outputs": [],
   "source": [
    "#Write a Python to find all duplicate characters in string"
   ]
  },
  {
   "cell_type": "code",
   "execution_count": 30,
   "id": "ea08e538",
   "metadata": {},
   "outputs": [
    {
     "name": "stdout",
     "output_type": "stream",
     "text": [
      "enter a stringraamesh\n",
      "a\n"
     ]
    }
   ],
   "source": [
    "from collections import Counter\n",
    "txt = input(\"enter a string\")\n",
    "w = Counter(txt)\n",
    "for i , count in w.items():\n",
    "    if count>1:\n",
    "        print(i)\n",
    "   "
   ]
  },
  {
   "cell_type": "code",
   "execution_count": null,
   "id": "13e1b51e",
   "metadata": {},
   "outputs": [],
   "source": [
    "#Write a Python Program to check if a string contains any special character"
   ]
  },
  {
   "cell_type": "code",
   "execution_count": 42,
   "id": "311b15db",
   "metadata": {},
   "outputs": [
    {
     "name": "stdout",
     "output_type": "stream",
     "text": [
      "Enter a string:rs\n",
      "string contain the special symbols\n"
     ]
    }
   ],
   "source": [
    "s ='[@_!#$%^&*()<>?/\\|}{~:]'\n",
    "txt = input(\"Enter a string:\").split()\n",
    "c = 0\n",
    "for i in range(len(txt)):\n",
    "    if txt[i] in s:\n",
    "        c=c+1\n",
    "if c:\n",
    "    print(\"strin doesn't have any special symbols\")\n",
    "else:\n",
    "    print(\"string contain the special symbols\")\n"
   ]
  },
  {
   "cell_type": "code",
   "execution_count": 48,
   "id": "0484efc2",
   "metadata": {},
   "outputs": [
    {
     "name": "stdout",
     "output_type": "stream",
     "text": [
      "Enter a stringramesh suresh\n",
      "string not having the special symbols\n"
     ]
    }
   ],
   "source": [
    "n= input(\"Enter a string\")\n",
    "n.split()\n",
    "c=0\n",
    "s='[@_!#$%^&*()<>?/\\|}{~:]' \n",
    "for i in range(len(n)):\n",
    "    if n[i] in s:\n",
    "        c+=1     \n",
    "if c:\n",
    "    print(\"string contain special symbols\")\n",
    "else:\n",
    "    print(\"string not having the special symbols\")"
   ]
  }
 ],
 "metadata": {
  "kernelspec": {
   "display_name": "Python 3 (ipykernel)",
   "language": "python",
   "name": "python3"
  },
  "language_info": {
   "codemirror_mode": {
    "name": "ipython",
    "version": 3
   },
   "file_extension": ".py",
   "mimetype": "text/x-python",
   "name": "python",
   "nbconvert_exporter": "python",
   "pygments_lexer": "ipython3",
   "version": "3.9.12"
  }
 },
 "nbformat": 4,
 "nbformat_minor": 5
}
