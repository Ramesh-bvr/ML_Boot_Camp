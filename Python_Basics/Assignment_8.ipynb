{
 "cells": [
  {
   "cell_type": "markdown",
   "id": "41146cb5",
   "metadata": {},
   "source": [
    "# Is the Python Standard Library included with PyInputPlus?"
   ]
  },
  {
   "cell_type": "code",
   "execution_count": null,
   "id": "78ffe982",
   "metadata": {},
   "outputs": [],
   "source": [
    "PyInputPlus is not standard library in python"
   ]
  },
  {
   "cell_type": "markdown",
   "id": "a56a45a7",
   "metadata": {},
   "source": [
    "# Why is PyInputPlus commonly imported with import pyinputplus as pypi?"
   ]
  },
  {
   "cell_type": "code",
   "execution_count": null,
   "id": "d67a64d3",
   "metadata": {},
   "outputs": [],
   "source": [
    "ou can import the module with import pyinputplus as pyip so that we can enter a shorter name when calling the module’s functions"
   ]
  },
  {
   "cell_type": "markdown",
   "id": "a01eab17",
   "metadata": {},
   "source": [
    "# How do you distinguish between inputInt() and inputFloat()?"
   ]
  },
  {
   "cell_type": "code",
   "execution_count": null,
   "id": "885c8fa1",
   "metadata": {},
   "outputs": [],
   "source": [
    "inputInt()  expect the input as integer values\n",
    "inputFloat()  expect the inpus as float values(decimal)"
   ]
  },
  {
   "cell_type": "markdown",
   "id": "adcc4990",
   "metadata": {},
   "source": [
    "# Using PyInputPlus, how do you ensure that the user enters a whole number between 0 and 99?"
   ]
  },
  {
   "cell_type": "code",
   "execution_count": null,
   "id": "8fad5d26",
   "metadata": {},
   "outputs": [],
   "source": [
    "By using pyip.inputint(min=0, max=99)"
   ]
  },
  {
   "cell_type": "markdown",
   "id": "21d8d21b",
   "metadata": {},
   "source": [
    "# What is transferred to the keyword arguments allowRegexes and blockRegexes?"
   ]
  },
  {
   "cell_type": "code",
   "execution_count": null,
   "id": "40599e06",
   "metadata": {},
   "outputs": [],
   "source": [
    "A list of regex strings that are either explicitly allowed or denied"
   ]
  },
  {
   "cell_type": "markdown",
   "id": "b204205b",
   "metadata": {},
   "source": [
    "# If a blank input is entered three times, what does inputStr(limit=3) do?"
   ]
  },
  {
   "cell_type": "code",
   "execution_count": null,
   "id": "8b0e2ba9",
   "metadata": {},
   "outputs": [],
   "source": [
    "The function will raise RetryLimitException"
   ]
  },
  {
   "cell_type": "markdown",
   "id": "4a4b46ad",
   "metadata": {},
   "source": [
    "# If blank input is entered three times, what does inputStr(limit=3, default=&#39;hello&#39;) do?"
   ]
  },
  {
   "cell_type": "code",
   "execution_count": null,
   "id": "45ac912b",
   "metadata": {},
   "outputs": [],
   "source": [
    "returns the value 'hello'"
   ]
  }
 ],
 "metadata": {
  "kernelspec": {
   "display_name": "Python 3 (ipykernel)",
   "language": "python",
   "name": "python3"
  },
  "language_info": {
   "codemirror_mode": {
    "name": "ipython",
    "version": 3
   },
   "file_extension": ".py",
   "mimetype": "text/x-python",
   "name": "python",
   "nbconvert_exporter": "python",
   "pygments_lexer": "ipython3",
   "version": "3.9.12"
  }
 },
 "nbformat": 4,
 "nbformat_minor": 5
}
