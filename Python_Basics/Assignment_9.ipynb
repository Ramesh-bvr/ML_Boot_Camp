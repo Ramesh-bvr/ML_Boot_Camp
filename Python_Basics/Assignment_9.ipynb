{
 "cells": [
  {
   "cell_type": "markdown",
   "id": "0f960182",
   "metadata": {},
   "source": [
    "# 1. To what does a relative path refer?"
   ]
  },
  {
   "cell_type": "code",
   "execution_count": null,
   "id": "3c08d1aa",
   "metadata": {},
   "outputs": [],
   "source": [
    "Relative paths are relative to the current working directory"
   ]
  },
  {
   "cell_type": "markdown",
   "id": "86f1a750",
   "metadata": {},
   "source": [
    "# What does an absolute path start with your operating system?"
   ]
  },
  {
   "cell_type": "code",
   "execution_count": null,
   "id": "29643cb3",
   "metadata": {},
   "outputs": [],
   "source": [
    "start with the root folder, such as / or C:\\."
   ]
  },
  {
   "cell_type": "markdown",
   "id": "4a64878f",
   "metadata": {},
   "source": [
    "# What do the functions os.getcwd() and os.chdir() do?"
   ]
  },
  {
   "cell_type": "code",
   "execution_count": null,
   "id": "bd9971ba",
   "metadata": {},
   "outputs": [],
   "source": [
    "os.getcwd() function returns the current working directory.\n",
    "os.chdir() function changes the current working directory"
   ]
  },
  {
   "cell_type": "markdown",
   "id": "d7cb7462",
   "metadata": {},
   "source": [
    "# What are the . and .. folders?"
   ]
  },
  {
   "cell_type": "code",
   "execution_count": null,
   "id": "5b18ebad",
   "metadata": {},
   "outputs": [],
   "source": [
    ". folder is the current folder\n",
    ".. is the parent folder"
   ]
  },
  {
   "cell_type": "markdown",
   "id": "c4c09350",
   "metadata": {},
   "source": [
    "# In C:\\bacon\\eggs\\spam.txt, which part is the dir name, and which part is the base name?"
   ]
  },
  {
   "cell_type": "code",
   "execution_count": null,
   "id": "6a7fc01d",
   "metadata": {},
   "outputs": [],
   "source": [
    "C:\\bacon\\eggs is the dir name\n",
    "spam.txt is the base name.       "
   ]
  },
  {
   "cell_type": "markdown",
   "id": "6b2e833d",
   "metadata": {},
   "source": [
    "# What are the three “mode” arguments that can be passed to the open() function?"
   ]
  },
  {
   "cell_type": "code",
   "execution_count": null,
   "id": "8869b3e7",
   "metadata": {},
   "outputs": [],
   "source": [
    "'r' for read mode \n",
    "'w' for write mode\n",
    "'a' for append mode"
   ]
  },
  {
   "cell_type": "markdown",
   "id": "71c072da",
   "metadata": {},
   "source": [
    "# 7. What happens if an existing file is opened in write mode?"
   ]
  },
  {
   "cell_type": "code",
   "execution_count": null,
   "id": "9f901061",
   "metadata": {},
   "outputs": [],
   "source": [
    "erased and completely overwritten"
   ]
  },
  {
   "cell_type": "markdown",
   "id": "1ff2a0aa",
   "metadata": {},
   "source": [
    "# How do you tell the difference between read() and readlines()?"
   ]
  },
  {
   "cell_type": "code",
   "execution_count": null,
   "id": "4670bdcb",
   "metadata": {},
   "outputs": [],
   "source": [
    "read() method returns the file’s entire contents as a single string value.\n",
    "readlines() method returns a list of strings, where each string is a line from the file’s contents."
   ]
  },
  {
   "cell_type": "markdown",
   "id": "5063807d",
   "metadata": {},
   "source": [
    "# What data structure does a shelf value resemble?"
   ]
  },
  {
   "cell_type": "code",
   "execution_count": null,
   "id": "cd84e116",
   "metadata": {},
   "outputs": [],
   "source": [
    "dictionary"
   ]
  }
 ],
 "metadata": {
  "kernelspec": {
   "display_name": "Python 3 (ipykernel)",
   "language": "python",
   "name": "python3"
  },
  "language_info": {
   "codemirror_mode": {
    "name": "ipython",
    "version": 3
   },
   "file_extension": ".py",
   "mimetype": "text/x-python",
   "name": "python",
   "nbconvert_exporter": "python",
   "pygments_lexer": "ipython3",
   "version": "3.9.12"
  }
 },
 "nbformat": 4,
 "nbformat_minor": 5
}
