{
 "cells": [
  {
   "cell_type": "code",
   "execution_count": null,
   "id": "394de6e7",
   "metadata": {},
   "outputs": [],
   "source": [
    "#Write a Python Program to Display Fibonacci Sequence Using Recursion"
   ]
  },
  {
   "cell_type": "code",
   "execution_count": 1,
   "id": "b11beeb7",
   "metadata": {},
   "outputs": [
    {
     "name": "stdout",
     "output_type": "stream",
     "text": [
      "Enter a number:5\n",
      "0\n",
      "1\n",
      "1\n",
      "2\n",
      "3\n"
     ]
    }
   ],
   "source": [
    "def fibo(n):\n",
    "    if n<=1:\n",
    "        return n\n",
    "    else:\n",
    "        return fibo(n-1)+fibo(n-2)\n",
    "n = int(input(\"Enter a number:\"))\n",
    "if n<=0:\n",
    "    print(\"Enter positive integer\")\n",
    "else:\n",
    "    for i in range(n):\n",
    "        print(fibo(i))"
   ]
  },
  {
   "cell_type": "code",
   "execution_count": null,
   "id": "e0934b57",
   "metadata": {},
   "outputs": [],
   "source": [
    "#Write a Python Program to Find Factorial of Number Using Recursion"
   ]
  },
  {
   "cell_type": "code",
   "execution_count": 2,
   "id": "a2b51e3b",
   "metadata": {},
   "outputs": [
    {
     "name": "stdout",
     "output_type": "stream",
     "text": [
      "Enter positive number5\n"
     ]
    },
    {
     "data": {
      "text/plain": [
       "120"
      ]
     },
     "execution_count": 2,
     "metadata": {},
     "output_type": "execute_result"
    }
   ],
   "source": [
    "def fact(n):\n",
    "    if n == 0:\n",
    "        return 1\n",
    "    else:\n",
    "        return n * fact(n-1)\n",
    "num = int(input(\"Enter positive number\"))\n",
    "fact(num)"
   ]
  },
  {
   "cell_type": "code",
   "execution_count": null,
   "id": "4cb46dce",
   "metadata": {},
   "outputs": [],
   "source": [
    "#Write a Python Program to calculate your Body Mass Index"
   ]
  },
  {
   "cell_type": "code",
   "execution_count": 1,
   "id": "d0c7f542",
   "metadata": {},
   "outputs": [
    {
     "name": "stdout",
     "output_type": "stream",
     "text": [
      "Enter weight in kilograms:72.57\n",
      "Enter height in metere:1.78\n"
     ]
    },
    {
     "data": {
      "text/plain": [
       "22.904305011993433"
      ]
     },
     "execution_count": 1,
     "metadata": {},
     "output_type": "execute_result"
    }
   ],
   "source": [
    "def bmi(m,h):\n",
    "    return m/h**2\n",
    "mass = float(input(\"Enter weight in kilograms:\"))\n",
    "height = float(input(\"Enter height in metere:\")) \n",
    "bmi(mass,height)"
   ]
  },
  {
   "cell_type": "code",
   "execution_count": null,
   "id": "e891f752",
   "metadata": {},
   "outputs": [],
   "source": [
    "#Write a Python Program to calculate the natural logarithm of any number"
   ]
  },
  {
   "cell_type": "code",
   "execution_count": 5,
   "id": "67932714",
   "metadata": {},
   "outputs": [
    {
     "name": "stdout",
     "output_type": "stream",
     "text": [
      "Enter number:14\n",
      "Logorithm of 14 is 2.6390573296152584\n"
     ]
    }
   ],
   "source": [
    "def log(n):\n",
    "    if n >= 0:\n",
    "        print(\"Logorithm of {} is\".format(n),math.log(n))\n",
    "    else:\n",
    "        print(\"Enter Positive Integer\")\n",
    "import math\n",
    "num = int(input(\"Enter number:\"))\n",
    "log(num)"
   ]
  },
  {
   "cell_type": "code",
   "execution_count": null,
   "id": "e89fe99f",
   "metadata": {},
   "outputs": [],
   "source": [
    "#Write a Python Program for cube sum of first n natural numbers"
   ]
  },
  {
   "cell_type": "code",
   "execution_count": 3,
   "id": "23fef646",
   "metadata": {},
   "outputs": [
    {
     "name": "stdout",
     "output_type": "stream",
     "text": [
      "Enter natural number:3\n"
     ]
    },
    {
     "data": {
      "text/plain": [
       "36.0"
      ]
     },
     "execution_count": 3,
     "metadata": {},
     "output_type": "execute_result"
    }
   ],
   "source": [
    "def cube(n):\n",
    "    return (n * (n+1) /2)**2\n",
    "num = int(input(\"Enter natural number:\"))\n",
    "cube(num)"
   ]
  }
 ],
 "metadata": {
  "kernelspec": {
   "display_name": "Python 3 (ipykernel)",
   "language": "python",
   "name": "python3"
  },
  "language_info": {
   "codemirror_mode": {
    "name": "ipython",
    "version": 3
   },
   "file_extension": ".py",
   "mimetype": "text/x-python",
   "name": "python",
   "nbconvert_exporter": "python",
   "pygments_lexer": "ipython3",
   "version": "3.9.12"
  }
 },
 "nbformat": 4,
 "nbformat_minor": 5
}
