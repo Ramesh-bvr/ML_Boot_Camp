{
 "cells": [
  {
   "cell_type": "code",
   "execution_count": null,
   "id": "8e01105b",
   "metadata": {},
   "outputs": [],
   "source": [
    "'''1. In the below elements which of them are values or an expression? eg:- values can be\n",
    "integer or string and expressions will be mathematical operators.\n",
    "*\n",
    "&#39;hello&#39;\n",
    "-87.8\n",
    "-\n",
    "/\n",
    "+\n",
    "6'''"
   ]
  },
  {
   "cell_type": "code",
   "execution_count": null,
   "id": "4a7313be",
   "metadata": {},
   "outputs": [],
   "source": [
    "Values: &#39;hello&#39 ,-87.8, 6\n",
    "Expressions: *,-, /, +"
   ]
  },
  {
   "cell_type": "code",
   "execution_count": null,
   "id": "b8db14fd",
   "metadata": {},
   "outputs": [],
   "source": [
    "#What is the difference between string and variable?"
   ]
  },
  {
   "cell_type": "code",
   "execution_count": null,
   "id": "26d15af6",
   "metadata": {},
   "outputs": [],
   "source": [
    "variable is used to stor the information and string is a type of information that stored in variable"
   ]
  },
  {
   "cell_type": "code",
   "execution_count": null,
   "id": "5e15d100",
   "metadata": {},
   "outputs": [],
   "source": [
    "#Describe three different data types."
   ]
  },
  {
   "cell_type": "code",
   "execution_count": null,
   "id": "ff0912f7",
   "metadata": {},
   "outputs": [],
   "source": [
    "There are different data types in python followinf are the some data types there are\n",
    "Numeric Data Types: int, float, complex\n",
    "String Data Types: str\n",
    "Sequence Data Types: list,tuple, range"
   ]
  },
  {
   "cell_type": "code",
   "execution_count": null,
   "id": "9455c7ae",
   "metadata": {},
   "outputs": [],
   "source": [
    "#What is an expression made up of? What do all expressions do?"
   ]
  },
  {
   "cell_type": "code",
   "execution_count": null,
   "id": "fcaf7204",
   "metadata": {},
   "outputs": [],
   "source": [
    "The expression is combination of operators and operands.The expression will produce some result after performing the some opration on operands."
   ]
  },
  {
   "cell_type": "code",
   "execution_count": null,
   "id": "e7ec5e4c",
   "metadata": {},
   "outputs": [],
   "source": [
    "#This assignment statements, like spam = 10. What is the difference between an expression and a statement?"
   ]
  },
  {
   "cell_type": "code",
   "execution_count": null,
   "id": "fa1caf98",
   "metadata": {},
   "outputs": [],
   "source": [
    "The statment is not evaluated for some result but expression will evaluate for the to get some result in the program"
   ]
  },
  {
   "cell_type": "code",
   "execution_count": null,
   "id": "7b0c2c2b",
   "metadata": {},
   "outputs": [],
   "source": [
    "'''After running the following code, what does the variable bacon contain?\n",
    "bacon = 22\n",
    "bacon + 1'''"
   ]
  },
  {
   "cell_type": "code",
   "execution_count": 2,
   "id": "5f5ccbd7",
   "metadata": {},
   "outputs": [
    {
     "data": {
      "text/plain": [
       "23"
      ]
     },
     "execution_count": 2,
     "metadata": {},
     "output_type": "execute_result"
    }
   ],
   "source": [
    "23"
   ]
  },
  {
   "cell_type": "code",
   "execution_count": null,
   "id": "b587a98a",
   "metadata": {},
   "outputs": [],
   "source": [
    "'''What should the values of the following two terms be?\n",
    "'''\n",
    "'spam'+'spamspam'\n",
    "'spam'*3'"
   ]
  },
  {
   "cell_type": "code",
   "execution_count": 4,
   "id": "aa97a03b",
   "metadata": {},
   "outputs": [
    {
     "data": {
      "text/plain": [
       "'spamspamspam'"
      ]
     },
     "execution_count": 4,
     "metadata": {},
     "output_type": "execute_result"
    }
   ],
   "source": [
    "'spam'*3"
   ]
  },
  {
   "cell_type": "code",
   "execution_count": 5,
   "id": "6fb498fd",
   "metadata": {},
   "outputs": [
    {
     "data": {
      "text/plain": [
       "'spamspamspam'"
      ]
     },
     "execution_count": 5,
     "metadata": {},
     "output_type": "execute_result"
    }
   ],
   "source": [
    "'spam'+'spamspam'"
   ]
  },
  {
   "cell_type": "code",
   "execution_count": null,
   "id": "c93bb783",
   "metadata": {},
   "outputs": [],
   "source": [
    "#Why is eggs a valid variable name while 100 is invalid?"
   ]
  },
  {
   "cell_type": "code",
   "execution_count": null,
   "id": "93b0c325",
   "metadata": {},
   "outputs": [],
   "source": [
    "variable name shoul not not start with tha digits so eggs valid variable name 100 not a valid variable name"
   ]
  },
  {
   "cell_type": "code",
   "execution_count": null,
   "id": "10bc81e3",
   "metadata": {},
   "outputs": [],
   "source": [
    "#What three functions can be used to get the integer, floating-point number, or string version of a value?"
   ]
  },
  {
   "cell_type": "code",
   "execution_count": null,
   "id": "522f828d",
   "metadata": {},
   "outputs": [],
   "source": [
    "int()\n",
    "float()\n",
    "str()"
   ]
  },
  {
   "cell_type": "code",
   "execution_count": null,
   "id": "d446d435",
   "metadata": {},
   "outputs": [],
   "source": [
    "'''Why does this expression cause an error? How can you fix it?\n",
    "I have eaten + 99 +  burritos'''"
   ]
  },
  {
   "cell_type": "code",
   "execution_count": null,
   "id": "d9990665",
   "metadata": {},
   "outputs": [],
   "source": [
    "99 is the intger value we can't concatenate string to integer to resolve this problem we have to convert 99 to string data type"
   ]
  },
  {
   "cell_type": "code",
   "execution_count": 9,
   "id": "cc174da1",
   "metadata": {},
   "outputs": [
    {
     "data": {
      "text/plain": [
       "'I have eaten99 burritos'"
      ]
     },
     "execution_count": 9,
     "metadata": {},
     "output_type": "execute_result"
    }
   ],
   "source": [
    "'I have eaten' + '99 '+  'burritos'"
   ]
  },
  {
   "cell_type": "code",
   "execution_count": null,
   "id": "b727ce67",
   "metadata": {},
   "outputs": [],
   "source": []
  }
 ],
 "metadata": {
  "kernelspec": {
   "display_name": "Python 3 (ipykernel)",
   "language": "python",
   "name": "python3"
  },
  "language_info": {
   "codemirror_mode": {
    "name": "ipython",
    "version": 3
   },
   "file_extension": ".py",
   "mimetype": "text/x-python",
   "name": "python",
   "nbconvert_exporter": "python",
   "pygments_lexer": "ipython3",
   "version": "3.9.12"
  }
 },
 "nbformat": 4,
 "nbformat_minor": 5
}
