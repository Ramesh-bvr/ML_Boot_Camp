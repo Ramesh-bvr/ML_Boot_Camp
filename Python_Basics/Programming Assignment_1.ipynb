{
 "cells": [
  {
   "cell_type": "code",
   "execution_count": null,
   "id": "7148dbb1",
   "metadata": {},
   "outputs": [],
   "source": [
    "#Write a Python program to print \"Hello Python\"?"
   ]
  },
  {
   "cell_type": "code",
   "execution_count": 3,
   "id": "04e63a7b",
   "metadata": {},
   "outputs": [
    {
     "data": {
      "text/plain": [
       "'Hello Pyhton'"
      ]
     },
     "execution_count": 3,
     "metadata": {},
     "output_type": "execute_result"
    }
   ],
   "source": [
    "def prnt():\n",
    "    return \"Hello Pyhton\"\n",
    "prnt()"
   ]
  },
  {
   "cell_type": "code",
   "execution_count": null,
   "id": "a37e4d1e",
   "metadata": {},
   "outputs": [],
   "source": [
    "#Write a Python program to do arithmetical operations addition and division.?"
   ]
  },
  {
   "cell_type": "code",
   "execution_count": 5,
   "id": "f2fc1989",
   "metadata": {},
   "outputs": [
    {
     "name": "stdout",
     "output_type": "stream",
     "text": [
      "enter two numbers20 10\n",
      "addition of 20, 10 is 30 and division is 2.0\n"
     ]
    }
   ],
   "source": [
    "a,b =map(int,input(\"enter two numbers\").split())\n",
    "s = a+b\n",
    "d = a/b\n",
    "print(\"addition of {}, {} is {} and division is {}\".format(a,b,s,d))"
   ]
  },
  {
   "cell_type": "code",
   "execution_count": null,
   "id": "97ff53c5",
   "metadata": {},
   "outputs": [],
   "source": [
    "#Write a Python program to find the area of a triangle?"
   ]
  },
  {
   "cell_type": "code",
   "execution_count": 2,
   "id": "10ca1de1",
   "metadata": {},
   "outputs": [
    {
     "name": "stdout",
     "output_type": "stream",
     "text": [
      "entar base and heught of triangle10 5\n",
      "area of triangle is 25.0\n"
     ]
    }
   ],
   "source": [
    "b,h= map(float,input(\"entar base and heught of triangle\").split())\n",
    "area = 0.5*b*h\n",
    "print(\"area of triangle is\",area)"
   ]
  },
  {
   "cell_type": "code",
   "execution_count": null,
   "id": "eb826501",
   "metadata": {},
   "outputs": [],
   "source": [
    "#Write a Python program to swap two variables?"
   ]
  },
  {
   "cell_type": "code",
   "execution_count": 8,
   "id": "b34e479c",
   "metadata": {},
   "outputs": [
    {
     "name": "stdout",
     "output_type": "stream",
     "text": [
      "enter two variables10 20\n"
     ]
    },
    {
     "data": {
      "text/plain": [
       "('20', '10')"
      ]
     },
     "execution_count": 8,
     "metadata": {},
     "output_type": "execute_result"
    }
   ],
   "source": [
    "def swap(n1,n2):\n",
    "    n1,n2 = a,b\n",
    "    return n2,n1\n",
    "a,b = input(\"enter two variables\").split()\n",
    "swap(a,b)"
   ]
  },
  {
   "cell_type": "code",
   "execution_count": null,
   "id": "bd4ab4fa",
   "metadata": {},
   "outputs": [],
   "source": [
    "#Write a Python program to generate a random number?"
   ]
  },
  {
   "cell_type": "code",
   "execution_count": 6,
   "id": "412058e2",
   "metadata": {},
   "outputs": [
    {
     "name": "stdout",
     "output_type": "stream",
     "text": [
      "enter two numbers for generate in between random numbers200 500\n"
     ]
    },
    {
     "data": {
      "text/plain": [
       "497"
      ]
     },
     "execution_count": 6,
     "metadata": {},
     "output_type": "execute_result"
    }
   ],
   "source": [
    "import random \n",
    "def rand(a1,b1):\n",
    "    x= random.randint(a1,b1)\n",
    "    return x\n",
    "a,b = map(int,input(\"enter two numbers for generate in between random numbers\").split())\n",
    "rand(a,b)"
   ]
  }
 ],
 "metadata": {
  "kernelspec": {
   "display_name": "Python 3 (ipykernel)",
   "language": "python",
   "name": "python3"
  },
  "language_info": {
   "codemirror_mode": {
    "name": "ipython",
    "version": 3
   },
   "file_extension": ".py",
   "mimetype": "text/x-python",
   "name": "python",
   "nbconvert_exporter": "python",
   "pygments_lexer": "ipython3",
   "version": "3.9.12"
  }
 },
 "nbformat": 4,
 "nbformat_minor": 5
}
