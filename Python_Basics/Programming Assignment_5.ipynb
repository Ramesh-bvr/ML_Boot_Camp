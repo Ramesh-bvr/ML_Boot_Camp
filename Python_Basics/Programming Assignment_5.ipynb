{
 "cells": [
  {
   "cell_type": "code",
   "execution_count": null,
   "id": "b5f9473f",
   "metadata": {},
   "outputs": [],
   "source": [
    "#Write a Python Program to Find LCM"
   ]
  },
  {
   "cell_type": "code",
   "execution_count": 37,
   "id": "19d622c4",
   "metadata": {},
   "outputs": [
    {
     "name": "stdout",
     "output_type": "stream",
     "text": [
      "Enetr two numbers:2 4\n",
      "LCM of 2 4 is is 4.0\n"
     ]
    }
   ],
   "source": [
    "def lcm(a,b):\n",
    "    gcd = min(a,b)\n",
    "    while gcd:\n",
    "        if a % gcd == 0 and b % gcd == 0:\n",
    "            break\n",
    "        gcd = gcd -1\n",
    "    lcm = a * b/gcd\n",
    "    print(\"LCM of {} {} is is\".format(a,b),lcm)\n",
    "a,b = map(int,input(\"Enetr two numbers:\").split())\n",
    "lcm(a,b)"
   ]
  },
  {
   "cell_type": "code",
   "execution_count": null,
   "id": "fd29d400",
   "metadata": {},
   "outputs": [],
   "source": [
    "#Write a Python Program to Find HCF"
   ]
  },
  {
   "cell_type": "code",
   "execution_count": 4,
   "id": "85de182c",
   "metadata": {},
   "outputs": [
    {
     "name": "stdout",
     "output_type": "stream",
     "text": [
      "Enetr two numbers:300 400\n"
     ]
    },
    {
     "data": {
      "text/plain": [
       "100"
      ]
     },
     "execution_count": 4,
     "metadata": {},
     "output_type": "execute_result"
    }
   ],
   "source": [
    "def hcf(a,b):\n",
    "    gcd = min(a,b)\n",
    "    while gcd:\n",
    "        if a % gcd == 0 and b % gcd == 0:\n",
    "            break\n",
    "        gcd = gcd -1\n",
    "    return gcd\n",
    "a,b = map(int,input(\"Enetr two numbers:\").split())\n",
    "hcf(a,b)"
   ]
  },
  {
   "cell_type": "code",
   "execution_count": null,
   "id": "cb00899e",
   "metadata": {},
   "outputs": [],
   "source": [
    "#Write a Python Program to Convert Decimal to Binary, Octal and Hexadecimal"
   ]
  },
  {
   "cell_type": "code",
   "execution_count": 2,
   "id": "50b7819e",
   "metadata": {},
   "outputs": [
    {
     "name": "stdout",
     "output_type": "stream",
     "text": [
      "enter number:24\n",
      "Binary represntation of 24 is\n",
      "011000\n",
      "\n",
      "Octal represntation of 24 is\n",
      "030\n",
      "\n",
      "Hexa-Decimal represntation of 24 is\n",
      "018"
     ]
    }
   ],
   "source": [
    "def dec_binary(n):\n",
    "    if n>=1:\n",
    "        dec_binary(n//2)\n",
    "    print(n%2, end='')\n",
    "def dec_octal(n):\n",
    "    if n>=1:\n",
    "        dec_octal(n//8)\n",
    "    print(n%8, end='')\n",
    "def dec_hexa(n):\n",
    "    if n>=1:\n",
    "        dec_hexa(n//16)\n",
    "    print(n%16, end='')\n",
    "n = int(input(\"enter number:\"))\n",
    "print(\"Binary represntation of {} is\".format(n))\n",
    "dec_binary(n)\n",
    "print('\\n')\n",
    "print(\"Octal represntation of {} is\".format(n))\n",
    "dec_octal(n)\n",
    "print('\\n')\n",
    "print(\"Hexa-Decimal represntation of {} is\".format(n))\n",
    "dec_hexa(n)"
   ]
  },
  {
   "cell_type": "code",
   "execution_count": null,
   "id": "f9778210",
   "metadata": {},
   "outputs": [],
   "source": [
    "#Write a Python Program To Find ASCII value of a character"
   ]
  },
  {
   "cell_type": "code",
   "execution_count": 9,
   "id": "444155f4",
   "metadata": {},
   "outputs": [
    {
     "name": "stdout",
     "output_type": "stream",
     "text": [
      "Enter charcter:RaAmesh\n",
      "R \t 82\n",
      "a \t 97\n",
      "A \t 65\n",
      "m \t 109\n",
      "e \t 101\n",
      "s \t 115\n",
      "h \t 104\n"
     ]
    }
   ],
   "source": [
    "text = input(\"Enter charcter:\")\n",
    "for ch in text:\n",
    "    ascii = ord(ch)\n",
    "    print(ch, '\\t', ascii)"
   ]
  },
  {
   "cell_type": "code",
   "execution_count": null,
   "id": "28fd2fcc",
   "metadata": {},
   "outputs": [],
   "source": [
    "#Write a Python Program to Make a Simple Calculator with 4 basic mathematical operations"
   ]
  },
  {
   "cell_type": "code",
   "execution_count": 1,
   "id": "324646ce",
   "metadata": {},
   "outputs": [
    {
     "name": "stdout",
     "output_type": "stream",
     "text": [
      "Select operation\n",
      "1:Addition\n",
      "2:Subtraction\n",
      "3:multiplication\n",
      "4:division\n",
      "Enter your choice:1/2/3/42\n",
      "enter first number25\n",
      "enter second number25\n",
      "25 - 25 = 0\n",
      "do you want to do more calculations(yes/no):yes\n",
      "Enter your choice:1/2/3/41\n",
      "enter first number25 \n",
      "enter second number5\n",
      "25 + 5 = 30\n",
      "do you want to do more calculations(yes/no):no\n"
     ]
    }
   ],
   "source": [
    "def add(x,y):\n",
    "    return x + y\n",
    "def sub(x,y):\n",
    "    return x - y\n",
    "def mul(x,y):\n",
    "    return x * y\n",
    "def div(x,y):\n",
    "    return x / y\n",
    "print(\"Select operation\")\n",
    "print(\"1:Addition\")\n",
    "print(\"2:Subtraction\")\n",
    "print(\"3:multiplication\")\n",
    "print(\"4:division\")\n",
    "while True:\n",
    "    ch = input(\"Enter your choice:1/2/3/4\")\n",
    "    if ch in ('1','2','3','4'):\n",
    "        n1 = int(input(\"enter first number\"))\n",
    "        n2 = int(input(\"enter second number\"))\n",
    "        if ch == '1':\n",
    "            print(n1, \"+\", n2, \"=\",add(n1,n2))\n",
    "        elif ch == '2':\n",
    "            print(n1, \"-\", n2, \"=\",sub(n1,n2))\n",
    "        elif ch == '3':\n",
    "            print(n1, \"*\", n2, \"=\",mul(n1,n2))\n",
    "        elif ch == '4':\n",
    "            print(n1, \"/\", n2 ,\"=\",div(n1,n2))\n",
    "        next_oper = input(\"do you want to do more calculations(yes/no):\")\n",
    "        if next_oper == 'no':\n",
    "            break\n",
    "        \n",
    "    "
   ]
  },
  {
   "cell_type": "code",
   "execution_count": null,
   "id": "32c7b371",
   "metadata": {},
   "outputs": [],
   "source": []
  }
 ],
 "metadata": {
  "kernelspec": {
   "display_name": "Python 3 (ipykernel)",
   "language": "python",
   "name": "python3"
  },
  "language_info": {
   "codemirror_mode": {
    "name": "ipython",
    "version": 3
   },
   "file_extension": ".py",
   "mimetype": "text/x-python",
   "name": "python",
   "nbconvert_exporter": "python",
   "pygments_lexer": "ipython3",
   "version": "3.9.12"
  }
 },
 "nbformat": 4,
 "nbformat_minor": 5
}
