{
 "cells": [
  {
   "cell_type": "code",
   "execution_count": null,
   "metadata": {},
   "outputs": [],
   "source": [
    "#Write a Python program to find sum of elements in list"
   ]
  },
  {
   "cell_type": "code",
   "execution_count": 6,
   "metadata": {},
   "outputs": [
    {
     "name": "stdout",
     "output_type": "stream",
     "text": [
      "Enter values:10 20 30\n",
      "60\n"
     ]
    }
   ],
   "source": [
    "lst = list(map(int,input(\"Enter values:\").split()))\n",
    "print(sum(lst))\n"
   ]
  },
  {
   "cell_type": "code",
   "execution_count": null,
   "metadata": {},
   "outputs": [],
   "source": [
    "#Write a Python program to Multiply all numbers in the list"
   ]
  },
  {
   "cell_type": "code",
   "execution_count": 10,
   "metadata": {},
   "outputs": [
    {
     "name": "stdout",
     "output_type": "stream",
     "text": [
      "Enter values:2 4 1 5\n"
     ]
    },
    {
     "data": {
      "text/plain": [
       "40"
      ]
     },
     "execution_count": 10,
     "metadata": {},
     "output_type": "execute_result"
    }
   ],
   "source": [
    "def mul(lst):\n",
    "    m = 1\n",
    "    for i in lst:\n",
    "        m = m*i\n",
    "    return m\n",
    "lst = list(map(int,input(\"Enter values:\").split()))\n",
    "mul(lst)"
   ]
  },
  {
   "cell_type": "code",
   "execution_count": null,
   "metadata": {},
   "outputs": [],
   "source": [
    "#Write a Python program to find smallest number in a list"
   ]
  },
  {
   "cell_type": "code",
   "execution_count": 16,
   "metadata": {},
   "outputs": [
    {
     "name": "stdout",
     "output_type": "stream",
     "text": [
      "Enter values:10 50 2 3 6 \n"
     ]
    },
    {
     "data": {
      "text/plain": [
       "2"
      ]
     },
     "execution_count": 16,
     "metadata": {},
     "output_type": "execute_result"
    }
   ],
   "source": [
    "def minimum(lst):\n",
    "    min1 = lst[0]\n",
    "    for i in range(len(lst)):\n",
    "        if(lst[i]<min1):\n",
    "            min1 = lst[i]\n",
    "    return min1\n",
    "lst = list(map(int,input(\"Enter values:\").split()))\n",
    "minimum(lst)"
   ]
  },
  {
   "cell_type": "code",
   "execution_count": null,
   "metadata": {},
   "outputs": [],
   "source": [
    "# Write a Python program to find largest number in a list"
   ]
  },
  {
   "cell_type": "code",
   "execution_count": 18,
   "metadata": {},
   "outputs": [
    {
     "name": "stdout",
     "output_type": "stream",
     "text": [
      "Enter list values:10 100 258 521 6 4 0 2\n"
     ]
    },
    {
     "data": {
      "text/plain": [
       "521"
      ]
     },
     "execution_count": 18,
     "metadata": {},
     "output_type": "execute_result"
    }
   ],
   "source": [
    "def maximum(lst):\n",
    "    m = lst[0]\n",
    "    for i in range(len(lst)):\n",
    "        if lst[i]>m:\n",
    "            m = lst[i]\n",
    "    return m\n",
    "lst = list(map(int,input(\"Enter list values:\").split()))\n",
    "maximum(lst)"
   ]
  },
  {
   "cell_type": "code",
   "execution_count": null,
   "metadata": {},
   "outputs": [],
   "source": [
    "#Write a Python program to find second largest number in a list"
   ]
  },
  {
   "cell_type": "code",
   "execution_count": 20,
   "metadata": {},
   "outputs": [
    {
     "name": "stdout",
     "output_type": "stream",
     "text": [
      "Enter list values:10 20 25\n"
     ]
    },
    {
     "data": {
      "text/plain": [
       "20"
      ]
     },
     "execution_count": 20,
     "metadata": {},
     "output_type": "execute_result"
    }
   ],
   "source": [
    "lst = list(map(int,input(\"Enter list values:\").split()))\n",
    "lst.sort()\n",
    "lst[1]"
   ]
  },
  {
   "cell_type": "code",
   "execution_count": null,
   "metadata": {},
   "outputs": [],
   "source": [
    "#Write a Python program to find N largest elements from a list"
   ]
  },
  {
   "cell_type": "code",
   "execution_count": 3,
   "metadata": {},
   "outputs": [
    {
     "name": "stdout",
     "output_type": "stream",
     "text": [
      "Enter List values:10 25 63 45 89\n",
      "how many largest elements you want:3\n",
      "[89, 63, 45]\n"
     ]
    }
   ],
   "source": [
    "lst = list(map(int,input(\"Enter List values:\").split()))\n",
    "lst.sort(reverse = True)\n",
    "n = int(input(\"how many largest elements you want:\"))\n",
    "print(lst[0:n])"
   ]
  },
  {
   "cell_type": "code",
   "execution_count": null,
   "metadata": {},
   "outputs": [],
   "source": [
    "#Write a Python program to print even numbers in a list"
   ]
  },
  {
   "cell_type": "code",
   "execution_count": 11,
   "metadata": {},
   "outputs": [
    {
     "name": "stdout",
     "output_type": "stream",
     "text": [
      "Enter list values:10 10 20 26 35 \n",
      "10\n",
      "10\n",
      "20\n",
      "26\n"
     ]
    }
   ],
   "source": [
    "lst = list(map(int,input(\"Enter list values:\").split()))\n",
    "for i in lst:\n",
    "    if i % 2 ==0:\n",
    "        print(i)"
   ]
  },
  {
   "cell_type": "code",
   "execution_count": null,
   "metadata": {},
   "outputs": [],
   "source": [
    "#Write a Python program to print odd numbers in a List"
   ]
  },
  {
   "cell_type": "code",
   "execution_count": 12,
   "metadata": {},
   "outputs": [
    {
     "name": "stdout",
     "output_type": "stream",
     "text": [
      "Enter list values:3 2 4 6 8 9 7\n",
      "3\n",
      "9\n",
      "7\n"
     ]
    }
   ],
   "source": [
    "lst = list(map(int,input(\"Enter list values:\").split()))\n",
    "for i in lst:\n",
    "    if i % 2 !=0:\n",
    "        print(i)"
   ]
  },
  {
   "cell_type": "code",
   "execution_count": null,
   "metadata": {},
   "outputs": [],
   "source": [
    "#Write a Python program to Remove empty List from List"
   ]
  },
  {
   "cell_type": "code",
   "execution_count": 37,
   "metadata": {},
   "outputs": [
    {
     "name": "stdout",
     "output_type": "stream",
     "text": [
      "Enter list values10 20 30 40 50 [] 20 [] 50\n",
      "['10', '20', '30', '40', '50', '20', '50']\n"
     ]
    }
   ],
   "source": [
    "lst = list(input(\"Enter list values\").split())\n",
    "res = list(filter(lambda x: x != '[]', lst))\n",
    "print(res)"
   ]
  },
  {
   "cell_type": "code",
   "execution_count": null,
   "metadata": {},
   "outputs": [],
   "source": [
    "#Write a Python program to Cloning or Copying a list?"
   ]
  },
  {
   "cell_type": "code",
   "execution_count": 39,
   "metadata": {},
   "outputs": [
    {
     "name": "stdout",
     "output_type": "stream",
     "text": [
      "Enter list values:10 20 30 4 07\n"
     ]
    },
    {
     "data": {
      "text/plain": [
       "['10', '20', '30', '4', '07']"
      ]
     },
     "execution_count": 39,
     "metadata": {},
     "output_type": "execute_result"
    }
   ],
   "source": [
    "def cloning(lst):\n",
    "    copy = []\n",
    "    copy.extend(lst)\n",
    "    return copy\n",
    "lst = list(input(\"Enter list values:\").split())\n",
    "cloning(lst)"
   ]
  },
  {
   "cell_type": "code",
   "execution_count": null,
   "metadata": {},
   "outputs": [],
   "source": [
    "#Write a Python program to Count occurrences of an element in a list"
   ]
  },
  {
   "cell_type": "code",
   "execution_count": 43,
   "metadata": {},
   "outputs": [
    {
     "name": "stdout",
     "output_type": "stream",
     "text": [
      "Enter list values:10 10 10 1 0 10 10 \n",
      "Enter whic elememt occurence you want:10\n"
     ]
    },
    {
     "data": {
      "text/plain": [
       "5"
      ]
     },
     "execution_count": 43,
     "metadata": {},
     "output_type": "execute_result"
    }
   ],
   "source": [
    "def cou(lst,n):\n",
    "    c = 0\n",
    "    for i in lst:\n",
    "        if i == n:\n",
    "            c = c+1\n",
    "    return c\n",
    "lst = list(map(int,input(\"Enter list values:\").split()))\n",
    "n = int(input(\"Enter whic elememt occurence you want:\"))\n",
    "cou(lst,n)"
   ]
  }
 ],
 "metadata": {
  "kernelspec": {
   "display_name": "Python 3",
   "language": "python",
   "name": "python3"
  },
  "language_info": {
   "codemirror_mode": {
    "name": "ipython",
    "version": 3
   },
   "file_extension": ".py",
   "mimetype": "text/x-python",
   "name": "python",
   "nbconvert_exporter": "python",
   "pygments_lexer": "ipython3",
   "version": "3.7.3"
  }
 },
 "nbformat": 4,
 "nbformat_minor": 2
}
