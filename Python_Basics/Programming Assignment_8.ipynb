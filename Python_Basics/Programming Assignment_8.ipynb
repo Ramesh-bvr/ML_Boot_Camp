{
 "cells": [
  {
   "cell_type": "code",
   "execution_count": null,
   "id": "d9dbe4f3",
   "metadata": {},
   "outputs": [],
   "source": [
    "#Write a Python Program to Add Two Matrices"
   ]
  },
  {
   "cell_type": "code",
   "execution_count": 17,
   "id": "6ee6ea30",
   "metadata": {},
   "outputs": [
    {
     "name": "stdout",
     "output_type": "stream",
     "text": [
      "Enter the number of rows:2\n",
      "Enter the number of columns:2\n",
      "Enter the entries in a single line (separated by space): \n",
      "Enter first matrix elements:1 2 3 4\n",
      "Enter second matrix elements:1 2 3 4\n",
      "[[1 2]\n",
      " [3 4]] + [[1 2]\n",
      " [3 4]] =\n",
      "[2, 4]\n",
      "[6, 8]\n"
     ]
    }
   ],
   "source": [
    "def add_matrix(m1,m2):\n",
    "    if len(m1) != len(m2):\n",
    "        print(\"Enter same lenght matrix\")\n",
    "    else:\n",
    "        print(m1, \"+\", m2, \"=\")\n",
    "        result = [[m1[i][j] + m2[i][j]  for j in range(len(m1[0]))] for i in range(len(m1))]\n",
    "        for r in result:\n",
    "            print(r)\n",
    "\n",
    "import numpy as np\n",
    "R = int(input(\"Enter the number of rows:\"))\n",
    "C = int(input(\"Enter the number of columns:\"))\n",
    "print(\"Enter the entries in a single line (separated by space): \")\n",
    "m1 = list(map(int, input(\"Enter first matrix elements:\").split()))\n",
    "m2 = list(map(int, input(\"Enter second matrix elements:\").split()))\n",
    "ma1 = np.array(m1).reshape(R, C)\n",
    "ma2 = np.array(m2).reshape(R, C)\n",
    "add_matrix(ma1,ma2)"
   ]
  },
  {
   "cell_type": "code",
   "execution_count": null,
   "id": "635015d9",
   "metadata": {},
   "outputs": [],
   "source": [
    "# Write a Python Program to Multiply Two Matrices"
   ]
  },
  {
   "cell_type": "code",
   "execution_count": 3,
   "id": "a85aebae",
   "metadata": {},
   "outputs": [
    {
     "name": "stdout",
     "output_type": "stream",
     "text": [
      "[114, 160, 60, 27]\n",
      "[74, 97, 73, 14]\n",
      "[119, 157, 112, 23]\n"
     ]
    }
   ],
   "source": [
    "X = [[12,7,3],\n",
    "    [4 ,5,6],\n",
    "    [7 ,8,9]]\n",
    "Y = [[5,8,1,2],\n",
    "    [6,7,3,0],\n",
    "    [4,5,9,1]]\n",
    "result = [[sum(a*b for a,b in zip(X_row,Y_col)) for Y_col in zip(*Y)] for X_row in X]\n",
    "\n",
    "for r in result:\n",
    "   print(r)"
   ]
  },
  {
   "cell_type": "code",
   "execution_count": null,
   "id": "f5454265",
   "metadata": {},
   "outputs": [],
   "source": [
    "#Write a Python Program to Transpose a Matrix?"
   ]
  },
  {
   "cell_type": "code",
   "execution_count": 2,
   "id": "11fe5f46",
   "metadata": {},
   "outputs": [
    {
     "name": "stdout",
     "output_type": "stream",
     "text": [
      "Original Array:\n",
      "[[4 5 6]\n",
      " [6 4 5]]\n",
      "Transposed Array:\n",
      "[[4 6]\n",
      " [5 4]\n",
      " [6 5]]\n"
     ]
    }
   ],
   "source": [
    "import numpy as np\n",
    "\n",
    "arr1 = np.array([[4,5,6], [6,4,5]])\n",
    "\n",
    "print(f'Original Array:\\n{arr1}')\n",
    "\n",
    "arr1_transpose = arr1.transpose()\n",
    "\n",
    "print(f'Transposed Array:\\n{arr1_transpose}')"
   ]
  },
  {
   "cell_type": "code",
   "execution_count": null,
   "id": "5fa78832",
   "metadata": {},
   "outputs": [],
   "source": [
    "#Write a Python Program to Sort Words in Alphabetic Order"
   ]
  },
  {
   "cell_type": "code",
   "execution_count": 16,
   "id": "611aa5bd",
   "metadata": {},
   "outputs": [
    {
     "name": "stdout",
     "output_type": "stream",
     "text": [
      "Enter words:ram app\n",
      "['app', 'ram']\n"
     ]
    }
   ],
   "source": [
    "list_words = input(\"Enter words:\").split()\n",
    "list_words\n",
    "list_words.sort()\n",
    "print(list_words)"
   ]
  },
  {
   "cell_type": "code",
   "execution_count": null,
   "id": "dde13bca",
   "metadata": {},
   "outputs": [],
   "source": [
    "#Write a Python Program to Remove Punctuation From a String?"
   ]
  },
  {
   "cell_type": "code",
   "execution_count": 19,
   "id": "0a9d798a",
   "metadata": {},
   "outputs": [
    {
     "name": "stdout",
     "output_type": "stream",
     "text": [
      "Enter your string:ram,suresh!\n",
      "ramsuresh\n"
     ]
    }
   ],
   "source": [
    "import string\n",
    "\n",
    "str1 = input(\"Enter your string:\")\n",
    "new_string = str1.translate(str.maketrans('', '', string.punctuation))\n",
    "\n",
    "print(new_string)\n"
   ]
  }
 ],
 "metadata": {
  "kernelspec": {
   "display_name": "Python 3 (ipykernel)",
   "language": "python",
   "name": "python3"
  },
  "language_info": {
   "codemirror_mode": {
    "name": "ipython",
    "version": 3
   },
   "file_extension": ".py",
   "mimetype": "text/x-python",
   "name": "python",
   "nbconvert_exporter": "python",
   "pygments_lexer": "ipython3",
   "version": "3.9.12"
  }
 },
 "nbformat": 4,
 "nbformat_minor": 5
}
