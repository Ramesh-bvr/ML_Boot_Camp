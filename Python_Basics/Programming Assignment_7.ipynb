{
 "cells": [
  {
   "cell_type": "code",
   "execution_count": null,
   "id": "96410931",
   "metadata": {},
   "outputs": [],
   "source": [
    "#Write a Python Program to find sum of array"
   ]
  },
  {
   "cell_type": "code",
   "execution_count": 8,
   "id": "260176c9",
   "metadata": {},
   "outputs": [
    {
     "name": "stdout",
     "output_type": "stream",
     "text": [
      "Enter array elements:25 25 25 25 6\n"
     ]
    },
    {
     "data": {
      "text/plain": [
       "106"
      ]
     },
     "execution_count": 8,
     "metadata": {},
     "output_type": "execute_result"
    }
   ],
   "source": [
    "def sum_array(a):\n",
    "    return sum(a)\n",
    "array = list(map(int,input(\"Enter array elements:\").split()))\n",
    "sum_array(array)"
   ]
  },
  {
   "cell_type": "code",
   "execution_count": null,
   "id": "e8cf539f",
   "metadata": {},
   "outputs": [],
   "source": [
    "#Write a Python Program to find largest element in an array"
   ]
  },
  {
   "cell_type": "code",
   "execution_count": 6,
   "id": "c5c365b1",
   "metadata": {},
   "outputs": [
    {
     "name": "stdout",
     "output_type": "stream",
     "text": [
      "Enter array elements:25 68 75 100 23 0 5\n"
     ]
    },
    {
     "data": {
      "text/plain": [
       "100"
      ]
     },
     "execution_count": 6,
     "metadata": {},
     "output_type": "execute_result"
    }
   ],
   "source": [
    "def largest_ele_array(a):\n",
    "    return max(a)\n",
    "array = list(map(int,input(\"Enter array elements:\").split()))\n",
    "largest_ele_array(array)"
   ]
  },
  {
   "cell_type": "code",
   "execution_count": null,
   "id": "c5a48a1f",
   "metadata": {},
   "outputs": [],
   "source": [
    "#Write a Python Program for array rotation"
   ]
  },
  {
   "cell_type": "code",
   "execution_count": 16,
   "id": "ba42cdcf",
   "metadata": {},
   "outputs": [
    {
     "name": "stdout",
     "output_type": "stream",
     "text": [
      "Enter array elements:1 2 3 4 5 6\n"
     ]
    },
    {
     "data": {
      "text/plain": [
       "[6, 5, 4, 3, 2, 1]"
      ]
     },
     "execution_count": 16,
     "metadata": {},
     "output_type": "execute_result"
    }
   ],
   "source": [
    "def array_rotation(a):\n",
    "    return a[::-1]\n",
    "array = list(map(int,input(\"Enter array elements:\").split()))\n",
    "array_rotation(array)"
   ]
  },
  {
   "cell_type": "code",
   "execution_count": null,
   "id": "69f49aec",
   "metadata": {},
   "outputs": [],
   "source": [
    "#Write a Python Program to Split the array and add the first part to the end"
   ]
  },
  {
   "cell_type": "code",
   "execution_count": 17,
   "id": "8745ede1",
   "metadata": {},
   "outputs": [
    {
     "name": "stdout",
     "output_type": "stream",
     "text": [
      "Enter array elements:1 2 3 4 5 6 7 8 9\n",
      "Enter how many elements have to split:3\n"
     ]
    },
    {
     "data": {
      "text/plain": [
       "[4, 5, 6, 7, 8, 9, 1, 2, 3]"
      ]
     },
     "execution_count": 17,
     "metadata": {},
     "output_type": "execute_result"
    }
   ],
   "source": [
    "def first_part_to_the_end(a,d):\n",
    "    n = len(a)\n",
    "    a[:] = a[d:n] + a[0:d]\n",
    "    return a\n",
    "array = list(map(int,input(\"Enter array elements:\").split()))\n",
    "d = int(input(\"Enter how many elements have to split:\"))\n",
    "first_part_to_the_end(array,d)"
   ]
  },
  {
   "cell_type": "code",
   "execution_count": null,
   "id": "73d3375a",
   "metadata": {},
   "outputs": [],
   "source": [
    "#Write a Python Program to check if given array is Monotonic"
   ]
  },
  {
   "cell_type": "code",
   "execution_count": 20,
   "id": "d5c53120",
   "metadata": {},
   "outputs": [
    {
     "name": "stdout",
     "output_type": "stream",
     "text": [
      "Enter array elements:5 2 3 6 4 0 2 3\n"
     ]
    },
    {
     "data": {
      "text/plain": [
       "False"
      ]
     },
     "execution_count": 20,
     "metadata": {},
     "output_type": "execute_result"
    }
   ],
   "source": [
    "def Monotonic(a):\n",
    "    return (all(a[i]<=a[i+1] for i in range(len(a)-1))) or all(a[i]>=a[i+1] for i in range(len(a)-1))\n",
    "array = list(map(int,input(\"Enter array elements:\").split()))\n",
    "Monotonic(array)"
   ]
  }
 ],
 "metadata": {
  "kernelspec": {
   "display_name": "Python 3 (ipykernel)",
   "language": "python",
   "name": "python3"
  },
  "language_info": {
   "codemirror_mode": {
    "name": "ipython",
    "version": 3
   },
   "file_extension": ".py",
   "mimetype": "text/x-python",
   "name": "python",
   "nbconvert_exporter": "python",
   "pygments_lexer": "ipython3",
   "version": "3.9.12"
  }
 },
 "nbformat": 4,
 "nbformat_minor": 5
}
