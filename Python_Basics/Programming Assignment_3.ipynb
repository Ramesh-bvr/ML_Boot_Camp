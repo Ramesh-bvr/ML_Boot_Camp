{
 "cells": [
  {
   "cell_type": "code",
   "execution_count": null,
   "id": "ed8a1446",
   "metadata": {},
   "outputs": [],
   "source": [
    "#Write a Python Program to Check if a Number is Positive, Negative or Zero"
   ]
  },
  {
   "cell_type": "code",
   "execution_count": 4,
   "id": "1d8084b3",
   "metadata": {},
   "outputs": [
    {
     "name": "stdout",
     "output_type": "stream",
     "text": [
      "Enter a number-569\n",
      "-569 is Negative number\n"
     ]
    }
   ],
   "source": [
    "def check_number(n):\n",
    "    if n>0:\n",
    "        print(\"{} is positive number\".format(n))\n",
    "    elif n<0:\n",
    "        print(\"{} is Negative number\".format(n))\n",
    "    else:\n",
    "        print(\"{} is Zero\".format(n))\n",
    "n = int(input(\"Enter a number\"))\n",
    "check_number(n)"
   ]
  },
  {
   "cell_type": "code",
   "execution_count": null,
   "id": "0191a5b7",
   "metadata": {},
   "outputs": [],
   "source": [
    "#Write a Python Program to Check if a Number is Odd or Even"
   ]
  },
  {
   "cell_type": "code",
   "execution_count": 40,
   "id": "ca2af222",
   "metadata": {},
   "outputs": [
    {
     "name": "stdout",
     "output_type": "stream",
     "text": [
      "enter a number3\n",
      "3 is odd\n"
     ]
    }
   ],
   "source": [
    "def check_Number_Odd_or_Even(n):\n",
    "    if n%2 == 0:\n",
    "        print(\"{} is even\".format(n))\n",
    "    else:\n",
    "        print(\"{} is odd\".format(n))\n",
    "n = int(input(\"enter a number\"))\n",
    "check_Number_Odd_or_Even(n)"
   ]
  },
  {
   "cell_type": "code",
   "execution_count": null,
   "id": "5b7a3161",
   "metadata": {},
   "outputs": [],
   "source": [
    "#Write a Python Program to Check Leap Year"
   ]
  },
  {
   "cell_type": "code",
   "execution_count": 4,
   "id": "3d61aafe",
   "metadata": {},
   "outputs": [
    {
     "name": "stdout",
     "output_type": "stream",
     "text": [
      "Enter a year1992\n",
      "Leap Year \n"
     ]
    }
   ],
   "source": [
    "def Check_Leap_Year(y):\n",
    "    if y%4 == 0:\n",
    "        print(\"Leap Year \")\n",
    "    else:\n",
    "        print(\"not a leap year\")\n",
    "n1 = int(input(\"Enter a year\"))\n",
    "Check_Leap_Year(n1)"
   ]
  },
  {
   "cell_type": "code",
   "execution_count": null,
   "id": "6805ebb3",
   "metadata": {},
   "outputs": [],
   "source": [
    "# Write a Python Program to Check Prime Number"
   ]
  },
  {
   "cell_type": "code",
   "execution_count": 27,
   "id": "bedfc047",
   "metadata": {},
   "outputs": [
    {
     "name": "stdout",
     "output_type": "stream",
     "text": [
      "Enter a number22\n",
      "22 is not a prime number\n"
     ]
    }
   ],
   "source": [
    "def Check_Prime_Number(n):\n",
    "    flag = False\n",
    "    if n>1:\n",
    "        for i in range(2,n):\n",
    "            if n%i==0:\n",
    "                flag = True\n",
    "                break\n",
    "    if flag:\n",
    "        print(\"{} is not a prime number\".format(n))\n",
    "    else:\n",
    "            print(\"{} is prime number\".format(n))\n",
    "\n",
    "\n",
    "num = int(input(\"Enter a number\"))\n",
    "Check_Prime_Number(num)"
   ]
  },
  {
   "cell_type": "code",
   "execution_count": null,
   "id": "063af55e",
   "metadata": {},
   "outputs": [],
   "source": [
    "#Write a Python Program to Print all Prime Numbers in an Interval of 1-10000"
   ]
  },
  {
   "cell_type": "code",
   "execution_count": 39,
   "id": "7ee17718",
   "metadata": {},
   "outputs": [
    {
     "name": "stdout",
     "output_type": "stream",
     "text": [
      "enter two numbers10 20\n",
      "11\n",
      "13\n",
      "17\n",
      "19\n"
     ]
    }
   ],
   "source": [
    "def Prime_Numbers(lower, upper):\n",
    "    for num in range(lower, upper + 1):\n",
    "        if num > 1:\n",
    "            for i in range(2, num):\n",
    "                if (num % i) == 0:\n",
    "                    break\n",
    "            else:\n",
    "                print(num)\n",
    "a, b = map(int,input(\"enter two numbers\").split())\n",
    "Prime_Numbers(a,b)"
   ]
  }
 ],
 "metadata": {
  "kernelspec": {
   "display_name": "Python 3 (ipykernel)",
   "language": "python",
   "name": "python3"
  },
  "language_info": {
   "codemirror_mode": {
    "name": "ipython",
    "version": 3
   },
   "file_extension": ".py",
   "mimetype": "text/x-python",
   "name": "python",
   "nbconvert_exporter": "python",
   "pygments_lexer": "ipython3",
   "version": "3.9.12"
  }
 },
 "nbformat": 4,
 "nbformat_minor": 5
}
