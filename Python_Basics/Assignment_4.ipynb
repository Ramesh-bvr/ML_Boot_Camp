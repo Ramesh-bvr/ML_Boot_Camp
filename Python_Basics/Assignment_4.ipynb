{
 "cells": [
  {
   "cell_type": "code",
   "execution_count": null,
   "id": "78cad77a",
   "metadata": {},
   "outputs": [],
   "source": [
    "#What exactly is []?"
   ]
  },
  {
   "cell_type": "code",
   "execution_count": null,
   "id": "27b20075",
   "metadata": {},
   "outputs": [],
   "source": [
    "empty list"
   ]
  },
  {
   "cell_type": "code",
   "execution_count": null,
   "id": "addeff64",
   "metadata": {},
   "outputs": [],
   "source": [
    "'''In a list of values stored in a variable called spam, how would you assign the value 'hello' as the \n",
    "third value? (Assume [2, 4, 6, 8, 10] are in spam.)'''"
   ]
  },
  {
   "cell_type": "code",
   "execution_count": 4,
   "id": "1ece162d",
   "metadata": {},
   "outputs": [],
   "source": [
    "\n",
    "spam=[2, 4, 6, 8, 10]"
   ]
  },
  {
   "cell_type": "code",
   "execution_count": 5,
   "id": "37659bce",
   "metadata": {},
   "outputs": [],
   "source": [
    "spam[2]='hello'"
   ]
  },
  {
   "cell_type": "code",
   "execution_count": null,
   "id": "da55379f",
   "metadata": {},
   "outputs": [],
   "source": [
    "#Let's pretend the spam includes the list['a','b','c','d'] for the next three queries."
   ]
  },
  {
   "cell_type": "code",
   "execution_count": null,
   "id": "ea021c91",
   "metadata": {},
   "outputs": [],
   "source": [
    "spam=['a','b','c','d']"
   ]
  },
  {
   "cell_type": "code",
   "execution_count": null,
   "id": "ef8d986b",
   "metadata": {},
   "outputs": [],
   "source": [
    "#What is the value of spam[int(int('3' * 2) / 11)]?"
   ]
  },
  {
   "cell_type": "code",
   "execution_count": null,
   "id": "59b71690",
   "metadata": {},
   "outputs": [],
   "source": [
    "spam[int(int('3' * 2) / 11)]"
   ]
  },
  {
   "cell_type": "code",
   "execution_count": null,
   "id": "9a3ac984",
   "metadata": {},
   "outputs": [],
   "source": [
    "'d'"
   ]
  },
  {
   "cell_type": "code",
   "execution_count": null,
   "id": "8567db5b",
   "metadata": {},
   "outputs": [],
   "source": [
    "#What is the value of spam[-1]"
   ]
  },
  {
   "cell_type": "code",
   "execution_count": null,
   "id": "3946750c",
   "metadata": {},
   "outputs": [],
   "source": [
    "'d'"
   ]
  },
  {
   "cell_type": "code",
   "execution_count": null,
   "id": "3c6c11d6",
   "metadata": {},
   "outputs": [],
   "source": [
    "# What is the value of spam[:2]"
   ]
  },
  {
   "cell_type": "code",
   "execution_count": null,
   "id": "c1a9e1cf",
   "metadata": {},
   "outputs": [],
   "source": [
    "['a','b']"
   ]
  },
  {
   "cell_type": "code",
   "execution_count": null,
   "id": "f21ca69f",
   "metadata": {},
   "outputs": [],
   "source": [
    "#Let's pretend bacon has the list [3.14, 'cat', 11,'cat', True] for the next three questions."
   ]
  },
  {
   "cell_type": "code",
   "execution_count": 17,
   "id": "6bd69181",
   "metadata": {},
   "outputs": [],
   "source": [
    "bacon=[3.14, 'cat', 11,'cat', True]"
   ]
  },
  {
   "cell_type": "code",
   "execution_count": null,
   "id": "442020df",
   "metadata": {},
   "outputs": [],
   "source": [
    "#What is the value of bacon.index('cat')?"
   ]
  },
  {
   "cell_type": "code",
   "execution_count": null,
   "id": "89f2fe20",
   "metadata": {},
   "outputs": [],
   "source": [
    "1"
   ]
  },
  {
   "cell_type": "code",
   "execution_count": null,
   "id": "8a78a97f",
   "metadata": {},
   "outputs": [],
   "source": [
    "#How does bacon.append(99) change the look of the list value in bacon?"
   ]
  },
  {
   "cell_type": "code",
   "execution_count": null,
   "id": "ecc5bc8c",
   "metadata": {},
   "outputs": [],
   "source": [
    "[3.14, 'cat', 11, 'cat', True, 99]"
   ]
  },
  {
   "cell_type": "code",
   "execution_count": null,
   "id": "7cd98569",
   "metadata": {},
   "outputs": [],
   "source": [
    "#How does bacon.remove('cat') change the look of the list in bacon?"
   ]
  },
  {
   "cell_type": "code",
   "execution_count": null,
   "id": "289f8184",
   "metadata": {},
   "outputs": [],
   "source": [
    "[3.14, 11, 'cat', True]"
   ]
  },
  {
   "cell_type": "code",
   "execution_count": null,
   "id": "cbf4f0af",
   "metadata": {},
   "outputs": [],
   "source": [
    "#What are the list concatenation and list replication operators?"
   ]
  },
  {
   "cell_type": "code",
   "execution_count": null,
   "id": "3ea95f7c",
   "metadata": {},
   "outputs": [],
   "source": [
    "concatenation operator +\n",
    "replication operator   *"
   ]
  },
  {
   "cell_type": "code",
   "execution_count": null,
   "id": "abd4f7a1",
   "metadata": {},
   "outputs": [],
   "source": [
    "# What is difference between the list methods append() and insert()"
   ]
  },
  {
   "cell_type": "code",
   "execution_count": null,
   "id": "9ce14007",
   "metadata": {},
   "outputs": [],
   "source": [
    "append can add the values at end of the list insert() can add a value anywhere in the list"
   ]
  },
  {
   "cell_type": "code",
   "execution_count": null,
   "id": "4c3ee090",
   "metadata": {},
   "outputs": [],
   "source": [
    "#What are the two methods for removing items from a list"
   ]
  },
  {
   "cell_type": "code",
   "execution_count": null,
   "id": "67c6cd99",
   "metadata": {},
   "outputs": [],
   "source": [
    "del\n",
    "remove()"
   ]
  },
  {
   "cell_type": "code",
   "execution_count": null,
   "id": "fd0043e3",
   "metadata": {},
   "outputs": [],
   "source": [
    "# Describe how list values and string values are identical"
   ]
  },
  {
   "cell_type": "code",
   "execution_count": null,
   "id": "f259cf7b",
   "metadata": {},
   "outputs": [],
   "source": [
    "Both the lists amg strings can use the len() and both having the indexes and slicing ,both can use the loop statments in this way both are identical"
   ]
  },
  {
   "cell_type": "code",
   "execution_count": null,
   "id": "e2afd044",
   "metadata": {},
   "outputs": [],
   "source": [
    "#What's the difference between tuples and lists?"
   ]
  },
  {
   "cell_type": "code",
   "execution_count": null,
   "id": "24b59cc3",
   "metadata": {},
   "outputs": [],
   "source": [
    "Lists are mutable:we can add and remove the elements\n",
    "tuples are immutable we can't cahnge the elements"
   ]
  },
  {
   "cell_type": "code",
   "execution_count": null,
   "id": "1b63b384",
   "metadata": {},
   "outputs": [],
   "source": [
    "#How do you type a tuple value that only contains the integer 42"
   ]
  },
  {
   "cell_type": "code",
   "execution_count": null,
   "id": "d53bebc4",
   "metadata": {},
   "outputs": [],
   "source": [
    "(42,)"
   ]
  },
  {
   "cell_type": "code",
   "execution_count": null,
   "id": "481cf670",
   "metadata": {},
   "outputs": [],
   "source": [
    "#How do you get a list value's tuple form? How do you get a tuple value's list form?"
   ]
  },
  {
   "cell_type": "code",
   "execution_count": null,
   "id": "8282176c",
   "metadata": {},
   "outputs": [],
   "source": [
    "The tuple() function can use to get list of values in tuple form\n",
    "The list() function can use the get values in list form"
   ]
  },
  {
   "cell_type": "code",
   "execution_count": null,
   "id": "51db7cd5",
   "metadata": {},
   "outputs": [],
   "source": [
    "#Variables that \"contain\" list values are not necessarily lists themselves. Instead, what do they contain?"
   ]
  },
  {
   "cell_type": "code",
   "execution_count": null,
   "id": "57a22c47",
   "metadata": {},
   "outputs": [],
   "source": [
    "reference or index values"
   ]
  },
  {
   "cell_type": "code",
   "execution_count": null,
   "id": "5eaa3895",
   "metadata": {},
   "outputs": [],
   "source": [
    "#How do you distinguish between copy.copy() and copy.deepcopy()"
   ]
  },
  {
   "cell_type": "code",
   "execution_count": null,
   "id": "66b2cacc",
   "metadata": {},
   "outputs": [],
   "source": [
    "opy.copy() function will do a shallow copy of a list, while the copy.deepcopy() function will do a deep copy of a list"
   ]
  }
 ],
 "metadata": {
  "kernelspec": {
   "display_name": "Python 3 (ipykernel)",
   "language": "python",
   "name": "python3"
  },
  "language_info": {
   "codemirror_mode": {
    "name": "ipython",
    "version": 3
   },
   "file_extension": ".py",
   "mimetype": "text/x-python",
   "name": "python",
   "nbconvert_exporter": "python",
   "pygments_lexer": "ipython3",
   "version": "3.9.12"
  }
 },
 "nbformat": 4,
 "nbformat_minor": 5
}
