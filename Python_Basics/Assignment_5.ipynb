{
 "cells": [
  {
   "cell_type": "code",
   "execution_count": null,
   "id": "ad07c813",
   "metadata": {},
   "outputs": [],
   "source": [
    "#What does an empty dictionary&#39;s code look like?"
   ]
  },
  {
   "cell_type": "code",
   "execution_count": null,
   "id": "7bb7798c",
   "metadata": {},
   "outputs": [],
   "source": [
    "{}"
   ]
  },
  {
   "cell_type": "code",
   "execution_count": null,
   "id": "f9263063",
   "metadata": {},
   "outputs": [],
   "source": [
    "#What is the value of a dictionary value with the key &#39;foo&#39; and the value 42?"
   ]
  },
  {
   "cell_type": "code",
   "execution_count": null,
   "id": "85d9655b",
   "metadata": {},
   "outputs": [],
   "source": [
    "{'foo':42}"
   ]
  },
  {
   "cell_type": "code",
   "execution_count": null,
   "id": "9bf25e15",
   "metadata": {},
   "outputs": [],
   "source": [
    "#What is the most significant distinction between a dictionary and a list"
   ]
  },
  {
   "cell_type": "code",
   "execution_count": null,
   "id": "7461673a",
   "metadata": {},
   "outputs": [],
   "source": [
    "dictionary is unorderd of items and list is ordered items"
   ]
  },
  {
   "cell_type": "code",
   "execution_count": null,
   "id": "e4df3ed4",
   "metadata": {},
   "outputs": [],
   "source": [
    "#What happens if you try to access spam['foo'] if spam is {'bar': 100}?"
   ]
  },
  {
   "cell_type": "code",
   "execution_count": null,
   "id": "f5f5d95a",
   "metadata": {},
   "outputs": [],
   "source": [
    "keyerror"
   ]
  },
  {
   "cell_type": "code",
   "execution_count": null,
   "id": "3400370a",
   "metadata": {},
   "outputs": [],
   "source": [
    "#5. If a dictionary is stored in spam, what is the difference between the expressions 'cat' in spam and'cat' in spam.keys()?"
   ]
  },
  {
   "cell_type": "code",
   "execution_count": null,
   "id": "bb248921",
   "metadata": {},
   "outputs": [],
   "source": [
    "No difference"
   ]
  },
  {
   "cell_type": "code",
   "execution_count": null,
   "id": "5e84345d",
   "metadata": {},
   "outputs": [],
   "source": [
    "# If a dictionary is stored in spam, what is the difference between the expressions 'cat' in spam and'cat' in spam.values()?"
   ]
  },
  {
   "cell_type": "code",
   "execution_count": null,
   "id": "f9f31a80",
   "metadata": {},
   "outputs": [],
   "source": [
    "'cat' in spam checks whether there is a cat key in the dictionary or not\n",
    "'cat' in spam.values() checks whether there is 'cat' value or not in the dictionary"
   ]
  },
  {
   "cell_type": "code",
   "execution_count": null,
   "id": "96bea410",
   "metadata": {},
   "outputs": [],
   "source": [
    "#7. What is a shortcut for the following code?\n",
    "if 'color' not in spam:\n",
    "spam['color'] = 'black'"
   ]
  },
  {
   "cell_type": "code",
   "execution_count": null,
   "id": "f8dcf449",
   "metadata": {},
   "outputs": [],
   "source": [
    "spam.setdefault('color', 'black')"
   ]
  },
  {
   "cell_type": "code",
   "execution_count": null,
   "id": "5667f05f",
   "metadata": {},
   "outputs": [],
   "source": [
    "#8. How do you &quot;pretty print&quot; dictionary values using which module and function?"
   ]
  },
  {
   "cell_type": "code",
   "execution_count": null,
   "id": "be587322",
   "metadata": {},
   "outputs": [],
   "source": [
    "pprint.pprint()"
   ]
  }
 ],
 "metadata": {
  "kernelspec": {
   "display_name": "Python 3 (ipykernel)",
   "language": "python",
   "name": "python3"
  },
  "language_info": {
   "codemirror_mode": {
    "name": "ipython",
    "version": 3
   },
   "file_extension": ".py",
   "mimetype": "text/x-python",
   "name": "python",
   "nbconvert_exporter": "python",
   "pygments_lexer": "ipython3",
   "version": "3.9.12"
  }
 },
 "nbformat": 4,
 "nbformat_minor": 5
}
